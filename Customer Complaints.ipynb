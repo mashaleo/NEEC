{
 "cells": [
  {
   "cell_type": "code",
   "execution_count": 27,
   "metadata": {},
   "outputs": [],
   "source": [
    "import pandas as pd"
   ]
  },
  {
   "cell_type": "code",
   "execution_count": 28,
   "metadata": {},
   "outputs": [],
   "source": [
    "df = pd.read_csv(r'C:\\Users\\masha\\Downloads\\balanced_complaints.csv')"
   ]
  },
  {
   "cell_type": "code",
   "execution_count": 29,
   "metadata": {},
   "outputs": [],
   "source": [
    "df_no_text = df.drop(columns=['Consumer complaint narrative'])"
   ]
  },
  {
   "cell_type": "code",
   "execution_count": 30,
   "metadata": {},
   "outputs": [
    {
     "name": "stdout",
     "output_type": "stream",
     "text": [
      "  Date received          Product                                  Issue  \\\n",
      "0     3/25/2016  Debt collection     False statements or representation   \n",
      "1      5/8/2015  Debt collection  Cont'd attempts collect debt not owed   \n",
      "2     1/21/2016  Debt collection                  Communication tactics   \n",
      "3      5/1/2015  Debt collection  Cont'd attempts collect debt not owed   \n",
      "4     9/26/2015      Credit card                   Credit determination   \n",
      "\n",
      "                             Company public response Date sent to company  \\\n",
      "0  Company believes it acted appropriately as aut...            3/26/2016   \n",
      "1  Company can't verify or dispute the facts in t...            5/11/2015   \n",
      "2  Company can't verify or dispute the facts in t...            1/21/2016   \n",
      "3  Company believes it acted appropriately as aut...             5/1/2015   \n",
      "4   Company chooses not to provide a public response            9/29/2015   \n",
      "\n",
      "      Company response to consumer Timely response?  \n",
      "0          Closed with explanation               No  \n",
      "1          Closed with explanation               No  \n",
      "2          Closed with explanation              Yes  \n",
      "3  Closed with non-monetary relief              Yes  \n",
      "4      Closed with monetary relief              Yes  \n"
     ]
    }
   ],
   "source": [
    "print(df_no_text.head())"
   ]
  },
  {
   "cell_type": "code",
   "execution_count": 31,
   "metadata": {},
   "outputs": [
    {
     "name": "stdout",
     "output_type": "stream",
     "text": [
      "19\n"
     ]
    }
   ],
   "source": [
    "product_counts = df['Product'].value_counts().nunique()\n",
    "print(product_counts)"
   ]
  },
  {
   "cell_type": "code",
   "execution_count": 32,
   "metadata": {},
   "outputs": [
    {
     "name": "stdout",
     "output_type": "stream",
     "text": [
      "64\n"
     ]
    }
   ],
   "source": [
    "issue_counts = df['Issue'].value_counts().nunique()\n",
    "print(issue_counts)"
   ]
  },
  {
   "cell_type": "code",
   "execution_count": 33,
   "metadata": {},
   "outputs": [
    {
     "name": "stdout",
     "output_type": "stream",
     "text": [
      "11\n"
     ]
    }
   ],
   "source": [
    "public_response_counts = df['Company public response'].value_counts().nunique()\n",
    "print(public_response_counts)"
   ]
  },
  {
   "cell_type": "code",
   "execution_count": 34,
   "metadata": {},
   "outputs": [
    {
     "name": "stdout",
     "output_type": "stream",
     "text": [
      "4\n"
     ]
    }
   ],
   "source": [
    "consumer_response_counts = df['Company response to consumer'].value_counts().nunique()\n",
    "print(consumer_response_counts)"
   ]
  },
  {
   "cell_type": "code",
   "execution_count": 35,
   "metadata": {},
   "outputs": [],
   "source": [
    "from pandas.tseries.holiday import USFederalHolidayCalendar\n"
   ]
  },
  {
   "cell_type": "code",
   "execution_count": 36,
   "metadata": {},
   "outputs": [],
   "source": [
    "cal = USFederalHolidayCalendar()\n",
    "holidays = cal.holidays(start=df['Date received'].min(), end=df['Date sent to company'].max())"
   ]
  },
  {
   "cell_type": "code",
   "execution_count": 37,
   "metadata": {},
   "outputs": [],
   "source": [
    "def calculate_business_days(row):\n",
    "    # Generate business days between the two dates\n",
    "    business_days = pd.bdate_range(row['Date received'], row['Date sent to company'])\n",
    "    # Exclude holidays\n",
    "    valid_business_days = business_days.difference(holidays)\n",
    "    return len(valid_business_days)"
   ]
  },
  {
   "cell_type": "code",
   "execution_count": 38,
   "metadata": {},
   "outputs": [],
   "source": [
    "df['Business Days'] = df.apply(calculate_business_days, axis=1)\n"
   ]
  },
  {
   "cell_type": "code",
   "execution_count": 39,
   "metadata": {},
   "outputs": [
    {
     "name": "stdout",
     "output_type": "stream",
     "text": [
      "  Date received          Product                                  Issue  \\\n",
      "0     3/25/2016  Debt collection     False statements or representation   \n",
      "1      5/8/2015  Debt collection  Cont'd attempts collect debt not owed   \n",
      "2     1/21/2016  Debt collection                  Communication tactics   \n",
      "3      5/1/2015  Debt collection  Cont'd attempts collect debt not owed   \n",
      "4     9/26/2015      Credit card                   Credit determination   \n",
      "\n",
      "                        Consumer complaint narrative  \\\n",
      "0  Debt amounts are not accurate when attempting ...   \n",
      "1  Focus Receivables Management, XXXX, GA XXXX Ph...   \n",
      "2  My mother, my sister, and I have received mult...   \n",
      "3  I started to receive correspondence from Natio...   \n",
      "4                      XXXX ruined my credit rating.   \n",
      "\n",
      "                             Company public response Date sent to company  \\\n",
      "0  Company believes it acted appropriately as aut...            3/26/2016   \n",
      "1  Company can't verify or dispute the facts in t...            5/11/2015   \n",
      "2  Company can't verify or dispute the facts in t...            1/21/2016   \n",
      "3  Company believes it acted appropriately as aut...             5/1/2015   \n",
      "4   Company chooses not to provide a public response            9/29/2015   \n",
      "\n",
      "      Company response to consumer Timely response?  Business Days  \n",
      "0          Closed with explanation               No              1  \n",
      "1          Closed with explanation               No              2  \n",
      "2          Closed with explanation              Yes              1  \n",
      "3  Closed with non-monetary relief              Yes              1  \n",
      "4      Closed with monetary relief              Yes              2  \n"
     ]
    }
   ],
   "source": [
    "print(df.head())"
   ]
  },
  {
   "cell_type": "code",
   "execution_count": 40,
   "metadata": {},
   "outputs": [],
   "source": [
    "#remove outliers need to decide how we're handling outliers"
   ]
  }
 ],
 "metadata": {
  "kernelspec": {
   "display_name": "Python 3",
   "language": "python",
   "name": "python3"
  },
  "language_info": {
   "codemirror_mode": {
    "name": "ipython",
    "version": 3
   },
   "file_extension": ".py",
   "mimetype": "text/x-python",
   "name": "python",
   "nbconvert_exporter": "python",
   "pygments_lexer": "ipython3",
   "version": "3.12.3"
  }
 },
 "nbformat": 4,
 "nbformat_minor": 2
}
