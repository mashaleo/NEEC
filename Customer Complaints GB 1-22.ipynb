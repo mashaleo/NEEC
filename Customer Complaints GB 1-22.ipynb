{
 "cells": [
  {
   "cell_type": "code",
   "execution_count": 64,
   "metadata": {},
   "outputs": [],
   "source": [
    "import pandas as pd\n",
    "from sklearn.model_selection import train_test_split\n",
    "from sklearn.model_selection import train_test_split, GridSearchCV\n",
    "from sklearn.ensemble import GradientBoostingClassifier\n",
    "from sklearn.metrics import classification_report, accuracy_score"
   ]
  },
  {
   "cell_type": "code",
   "execution_count": 65,
   "metadata": {},
   "outputs": [],
   "source": [
    "df = pd.read_csv(r'C:\\Users\\masha\\Downloads\\cleaned_and_balanced_complaints_small.csv')"
   ]
  },
  {
   "cell_type": "code",
   "execution_count": 66,
   "metadata": {},
   "outputs": [],
   "source": [
    "df_no_text = df.drop(columns=['Consumer complaint narrative'])"
   ]
  },
  {
   "cell_type": "code",
   "execution_count": 67,
   "metadata": {},
   "outputs": [
    {
     "name": "stdout",
     "output_type": "stream",
     "text": [
      "     Date received                                            Product  \\\n",
      "0       2017-07-28                        Credit card or prepaid card   \n",
      "1       2022-06-16  Credit reporting, credit repair services, or o...   \n",
      "2       2023-01-22                                    Debt collection   \n",
      "3       2017-04-21                            Bank account or service   \n",
      "4       2022-03-20  Credit reporting, credit repair services, or o...   \n",
      "...            ...                                                ...   \n",
      "4995    2021-11-16                        Checking or savings account   \n",
      "4996    2022-09-09  Credit reporting, credit repair services, or o...   \n",
      "4997    2022-12-15  Credit reporting, credit repair services, or o...   \n",
      "4998    2020-08-10                                           Mortgage   \n",
      "4999    2023-10-19  Credit reporting or other personal consumer re...   \n",
      "\n",
      "                                                  Issue  \\\n",
      "0                               Trouble using your card   \n",
      "1                           Improper use of your report   \n",
      "2                     Attempts to collect debt not owed   \n",
      "3               Account opening, closing, or management   \n",
      "4                  Incorrect information on your report   \n",
      "...                                                 ...   \n",
      "4995             Problem caused by your funds being low   \n",
      "4996                        Improper use of your report   \n",
      "4997  Problem with a credit reporting company's inve...   \n",
      "4998                         Struggling to pay mortgage   \n",
      "4999  Problem with a company's investigation into an...   \n",
      "\n",
      "                                Company public response Date sent to company  \\\n",
      "0     Company has responded to the consumer and the ...           2017-07-28   \n",
      "1     Company has responded to the consumer and the ...           2022-06-22   \n",
      "2     Company has responded to the consumer and the ...           2023-02-14   \n",
      "3     Company has responded to the consumer and the ...           2017-04-21   \n",
      "4     Company has responded to the consumer and the ...           2022-03-20   \n",
      "...                                                 ...                  ...   \n",
      "4995  Company believes it acted appropriately as aut...           2021-11-17   \n",
      "4996  Company has responded to the consumer and the ...           2022-09-09   \n",
      "4997  Company has responded to the consumer and the ...           2022-12-16   \n",
      "4998  Company has responded to the consumer and the ...           2020-08-18   \n",
      "4999  Company has responded to the consumer and the ...           2023-10-19   \n",
      "\n",
      "         Company response to consumer Timely response?  Business Days  \n",
      "0             Closed with explanation              Yes              0  \n",
      "1     Closed with non-monetary relief              Yes              4  \n",
      "2             Closed with explanation              Yes             16  \n",
      "3         Closed with monetary relief              Yes              0  \n",
      "4             Closed with explanation              Yes              0  \n",
      "...                               ...              ...            ...  \n",
      "4995          Closed with explanation              Yes              1  \n",
      "4996  Closed with non-monetary relief              Yes              0  \n",
      "4997  Closed with non-monetary relief              Yes              1  \n",
      "4998          Closed with explanation              Yes              6  \n",
      "4999          Closed with explanation              Yes              0  \n",
      "\n",
      "[5000 rows x 8 columns]\n"
     ]
    }
   ],
   "source": [
    "print(df_no_text)"
   ]
  },
  {
   "cell_type": "code",
   "execution_count": 68,
   "metadata": {},
   "outputs": [
    {
     "name": "stdout",
     "output_type": "stream",
     "text": [
      "5000\n"
     ]
    }
   ],
   "source": [
    "print(len(df_no_text))"
   ]
  },
  {
   "cell_type": "code",
   "execution_count": 69,
   "metadata": {},
   "outputs": [
    {
     "name": "stdout",
     "output_type": "stream",
     "text": [
      "18\n"
     ]
    }
   ],
   "source": [
    "product_counts = df['Product'].value_counts().nunique()\n",
    "print(product_counts)"
   ]
  },
  {
   "cell_type": "code",
   "execution_count": 70,
   "metadata": {},
   "outputs": [
    {
     "name": "stdout",
     "output_type": "stream",
     "text": [
      "53\n"
     ]
    }
   ],
   "source": [
    "issue_counts = df['Issue'].value_counts().nunique()\n",
    "print(issue_counts)"
   ]
  },
  {
   "cell_type": "code",
   "execution_count": 71,
   "metadata": {},
   "outputs": [
    {
     "name": "stdout",
     "output_type": "stream",
     "text": [
      "11\n"
     ]
    }
   ],
   "source": [
    "public_response_counts = df['Company public response'].value_counts().nunique()\n",
    "print(public_response_counts)"
   ]
  },
  {
   "cell_type": "code",
   "execution_count": 72,
   "metadata": {},
   "outputs": [
    {
     "name": "stdout",
     "output_type": "stream",
     "text": [
      "4\n"
     ]
    }
   ],
   "source": [
    "consumer_response_counts = df['Company response to consumer'].value_counts().nunique()\n",
    "print(consumer_response_counts)"
   ]
  },
  {
   "cell_type": "code",
   "execution_count": 73,
   "metadata": {},
   "outputs": [],
   "source": [
    "from workalendar.usa import UnitedStates\n",
    "from datetime import datetime\n"
   ]
  },
  {
   "cell_type": "code",
   "execution_count": 74,
   "metadata": {},
   "outputs": [],
   "source": [
    "# Initialize the calendar for the United States\n",
    "cal = UnitedStates()"
   ]
  },
  {
   "cell_type": "code",
   "execution_count": 75,
   "metadata": {},
   "outputs": [
    {
     "name": "stdout",
     "output_type": "stream",
     "text": [
      "     Date received                                            Product  \\\n",
      "0       2017-07-28                        Credit card or prepaid card   \n",
      "1       2022-06-16  Credit reporting, credit repair services, or o...   \n",
      "2       2023-01-22                                    Debt collection   \n",
      "3       2017-04-21                            Bank account or service   \n",
      "4       2022-03-20  Credit reporting, credit repair services, or o...   \n",
      "...            ...                                                ...   \n",
      "4995    2021-11-16                        Checking or savings account   \n",
      "4996    2022-09-09  Credit reporting, credit repair services, or o...   \n",
      "4997    2022-12-15  Credit reporting, credit repair services, or o...   \n",
      "4998    2020-08-10                                           Mortgage   \n",
      "4999    2023-10-19  Credit reporting or other personal consumer re...   \n",
      "\n",
      "                                                  Issue  \\\n",
      "0                               Trouble using your card   \n",
      "1                           Improper use of your report   \n",
      "2                     Attempts to collect debt not owed   \n",
      "3               Account opening, closing, or management   \n",
      "4                  Incorrect information on your report   \n",
      "...                                                 ...   \n",
      "4995             Problem caused by your funds being low   \n",
      "4996                        Improper use of your report   \n",
      "4997  Problem with a credit reporting company's inve...   \n",
      "4998                         Struggling to pay mortgage   \n",
      "4999  Problem with a company's investigation into an...   \n",
      "\n",
      "                           Consumer complaint narrative  \\\n",
      "0     I have an account and store card with QVC and ...   \n",
      "1     In accordance with the fair credit Reporting a...   \n",
      "2     The information is incorrect. The original cre...   \n",
      "3     An unauthori zed Personal Line of Credit was o...   \n",
      "4     XXXX is a criminally motivated company- in spi...   \n",
      "...                                                 ...   \n",
      "4995  I was visiting a friend who was visiting from ...   \n",
      "4996  I was a victim of Identity Theft. Per the Fair...   \n",
      "4997  On XX/XX/XXXX I disputed the bankruptcy on my ...   \n",
      "4998  I WAS INFECTED WITH XXXX and also the tenants ...   \n",
      "4999  I'm really not sure what happened. I have mail...   \n",
      "\n",
      "                                Company public response Date sent to company  \\\n",
      "0     Company has responded to the consumer and the ...           2017-07-28   \n",
      "1     Company has responded to the consumer and the ...           2022-06-22   \n",
      "2     Company has responded to the consumer and the ...           2023-02-14   \n",
      "3     Company has responded to the consumer and the ...           2017-04-21   \n",
      "4     Company has responded to the consumer and the ...           2022-03-20   \n",
      "...                                                 ...                  ...   \n",
      "4995  Company believes it acted appropriately as aut...           2021-11-17   \n",
      "4996  Company has responded to the consumer and the ...           2022-09-09   \n",
      "4997  Company has responded to the consumer and the ...           2022-12-16   \n",
      "4998  Company has responded to the consumer and the ...           2020-08-18   \n",
      "4999  Company has responded to the consumer and the ...           2023-10-19   \n",
      "\n",
      "         Company response to consumer Timely response?  Business Days  \n",
      "0             Closed with explanation              Yes              0  \n",
      "1     Closed with non-monetary relief              Yes              4  \n",
      "2             Closed with explanation              Yes             17  \n",
      "3         Closed with monetary relief              Yes              0  \n",
      "4             Closed with explanation              Yes              0  \n",
      "...                               ...              ...            ...  \n",
      "4995          Closed with explanation              Yes              1  \n",
      "4996  Closed with non-monetary relief              Yes              0  \n",
      "4997  Closed with non-monetary relief              Yes              1  \n",
      "4998          Closed with explanation              Yes              6  \n",
      "4999          Closed with explanation              Yes              0  \n",
      "\n",
      "[5000 rows x 9 columns]\n"
     ]
    }
   ],
   "source": [
    "df['Date received'] = pd.to_datetime(df['Date received'])\n",
    "df['Date sent to company'] = pd.to_datetime(df['Date sent to company'])\n",
    "\n",
    "# Function to calculate business days\n",
    "def calculate_business_days(row):\n",
    "    return cal.get_working_days_delta(row['Date received'].date(), row['Date sent to company'].date())\n",
    "\n",
    "# Apply the function to each row and create a new column\n",
    "df[\"Business Days\"] = df.apply(calculate_business_days, axis=1)\n",
    "\n",
    "print(df)\n"
   ]
  },
  {
   "cell_type": "code",
   "execution_count": 76,
   "metadata": {},
   "outputs": [
    {
     "name": "stdout",
     "output_type": "stream",
     "text": [
      "count    5000.000000\n",
      "mean        4.668200\n",
      "std         9.212876\n",
      "min         0.000000\n",
      "25%         0.000000\n",
      "50%         1.000000\n",
      "75%         5.000000\n",
      "max       151.000000\n",
      "Name: Business Days, dtype: float64\n"
     ]
    }
   ],
   "source": [
    "print(df['Business Days'].describe())"
   ]
  },
  {
   "cell_type": "code",
   "execution_count": 77,
   "metadata": {},
   "outputs": [
    {
     "name": "stdout",
     "output_type": "stream",
     "text": [
      "2042\n"
     ]
    }
   ],
   "source": [
    "print(len((df[df['Business Days'] == 0])))"
   ]
  },
  {
   "cell_type": "code",
   "execution_count": 78,
   "metadata": {},
   "outputs": [
    {
     "name": "stdout",
     "output_type": "stream",
     "text": [
      "649\n",
      "435\n",
      "322\n",
      "199\n",
      "160\n",
      "86\n"
     ]
    }
   ],
   "source": [
    "print(len((df[df['Business Days'] == 1])))\n",
    "print(len((df[df['Business Days'] == 2])))\n",
    "print(len((df[df['Business Days'] == 3])))\n",
    "print(len((df[df['Business Days'] == 4])))\n",
    "print(len((df[df['Business Days'] == 5])))\n",
    "print(len((df[df['Business Days'] == 6])))\n"
   ]
  },
  {
   "cell_type": "code",
   "execution_count": 79,
   "metadata": {},
   "outputs": [
    {
     "data": {
      "image/png": "[encoded data removed]",
      "text/plain": [
       "<Figure size 1000x600 with 1 Axes>"
      ]
     },
     "metadata": {},
     "output_type": "display_data"
    }
   ],
   "source": [
    "import matplotlib.pyplot as plt\n",
    "import seaborn as sns\n",
    "\n",
    "# Visualize the distribution of 'Business Days'\n",
    "plt.figure(figsize=(10, 6))\n",
    "sns.boxplot(x=df['Business Days'])\n",
    "plt.title('Boxplot of Business Days')\n",
    "plt.show()"
   ]
  },
  {
   "cell_type": "markdown",
   "metadata": {},
   "source": [
    "We are ignoring outliers for now"
   ]
  },
  {
   "cell_type": "code",
   "execution_count": 80,
   "metadata": {},
   "outputs": [
    {
     "data": {
      "text/plain": [
       "\"\\n# Remove outliers, decide how we're handling outliers\\nQ1 = df['Business Days'].quantile(0.25)\\nQ3 = df['Business Days'].quantile(0.75)\\n\\nIQR = Q3 - Q1  # Corrected calculation for IQR\\n\\nprint(Q1)\\nprint(Q3)\\nprint(IQR)\\n\\nlower_bound = Q1 - 1.5 * IQR\\nupper_bound = Q3 + 1.5 * IQR\\n\\n# Filter the data to remove outliers\\ndf_clean = df[(df['Business Days'] >= lower_bound) & (df['Business Days'] <= upper_bound)]\\n\\n# Check the resulting statistics\\nprint(df_clean['Business Days'].mean())\\nprint(df_clean['Business Days'].std())\\n\""
      ]
     },
     "execution_count": 80,
     "metadata": {},
     "output_type": "execute_result"
    }
   ],
   "source": [
    "'''\n",
    "# Remove outliers, decide how we're handling outliers\n",
    "Q1 = df['Business Days'].quantile(0.25)\n",
    "Q3 = df['Business Days'].quantile(0.75)\n",
    "\n",
    "IQR = Q3 - Q1  # Corrected calculation for IQR\n",
    "\n",
    "print(Q1)\n",
    "print(Q3)\n",
    "print(IQR)\n",
    "\n",
    "lower_bound = Q1 - 1.5 * IQR\n",
    "upper_bound = Q3 + 1.5 * IQR\n",
    "\n",
    "# Filter the data to remove outliers\n",
    "df_clean = df[(df['Business Days'] >= lower_bound) & (df['Business Days'] <= upper_bound)]\n",
    "\n",
    "# Check the resulting statistics\n",
    "print(df_clean['Business Days'].mean())\n",
    "print(df_clean['Business Days'].std())\n",
    "'''"
   ]
  },
  {
   "cell_type": "markdown",
   "metadata": {},
   "source": [
    "Current method of removing outliers leaves only 0s, so this in invalid, need to come up with a better way to remove outliers."
   ]
  },
  {
   "cell_type": "code",
   "execution_count": 81,
   "metadata": {},
   "outputs": [
    {
     "name": "stdout",
     "output_type": "stream",
     "text": [
      "     Date received Date sent to company  Business Days Timely response?\n",
      "0       2017-07-28           2017-07-28              0              Yes\n",
      "1       2022-06-16           2022-06-22              4              Yes\n",
      "2       2023-01-22           2023-02-14             17              Yes\n",
      "3       2017-04-21           2017-04-21              0              Yes\n",
      "4       2022-03-20           2022-03-20              0              Yes\n",
      "...            ...                  ...            ...              ...\n",
      "4995    2021-11-16           2021-11-17              1              Yes\n",
      "4996    2022-09-09           2022-09-09              0              Yes\n",
      "4997    2022-12-15           2022-12-16              1              Yes\n",
      "4998    2020-08-10           2020-08-18              6              Yes\n",
      "4999    2023-10-19           2023-10-19              0              Yes\n",
      "\n",
      "[5000 rows x 4 columns]\n"
     ]
    }
   ],
   "source": [
    "print(df[['Date received', 'Date sent to company', 'Business Days', 'Timely response?']])"
   ]
  },
  {
   "cell_type": "code",
   "execution_count": 82,
   "metadata": {},
   "outputs": [
    {
     "name": "stdout",
     "output_type": "stream",
     "text": [
      "77\n",
      "4923\n"
     ]
    }
   ],
   "source": [
    "no_df = df[(df['Timely response?'] == 'No')]\n",
    "print(len(no_df))\n",
    "\n",
    "yes_df = df[(df['Timely response?'] == 'Yes')]\n",
    "print(len(yes_df))\n"
   ]
  },
  {
   "cell_type": "code",
   "execution_count": 83,
   "metadata": {},
   "outputs": [
    {
     "name": "stdout",
     "output_type": "stream",
     "text": [
      "Statistics for 'Yes':\n",
      "count    4923.000000\n",
      "mean        4.624213\n",
      "std         9.183895\n",
      "min         0.000000\n",
      "25%         0.000000\n",
      "50%         1.000000\n",
      "75%         5.000000\n",
      "max       151.000000\n",
      "Name: Business Days, dtype: float64\n",
      "\n",
      "Statistics for 'No':\n",
      "count    77.000000\n",
      "mean      7.480519\n",
      "std      10.601155\n",
      "min       0.000000\n",
      "25%       2.000000\n",
      "50%       3.000000\n",
      "75%      11.000000\n",
      "max      72.000000\n",
      "Name: Business Days, dtype: float64\n"
     ]
    }
   ],
   "source": [
    "print(\"Statistics for 'Yes':\")\n",
    "print(yes_df['Business Days'].describe())\n",
    "print(\"\\nStatistics for 'No':\")\n",
    "print(no_df['Business Days'].describe())"
   ]
  },
  {
   "cell_type": "code",
   "execution_count": 84,
   "metadata": {},
   "outputs": [],
   "source": [
    "import pandas as pd\n",
    "import matplotlib.pyplot as plt\n",
    "import seaborn as sns\n"
   ]
  },
  {
   "cell_type": "code",
   "execution_count": 85,
   "metadata": {},
   "outputs": [],
   "source": [
    "from dython.nominal import associations\n"
   ]
  },
  {
   "cell_type": "code",
   "execution_count": 86,
   "metadata": {},
   "outputs": [],
   "source": [
    "df_timely_response = df[['Product','Issue', 'Company public response', 'Company response to consumer', 'Timely response?']]"
   ]
  },
  {
   "cell_type": "code",
   "execution_count": 87,
   "metadata": {},
   "outputs": [
    {
     "data": {
      "image/png": "[encoded data removed]",
      "text/plain": [
       "<Figure size 750x750 with 2 Axes>"
      ]
     },
     "metadata": {},
     "output_type": "display_data"
    },
    {
     "data": {
      "text/plain": [
       "{'corr':                                Product     Issue  Company public response  \\\n",
       " Product                       1.000000  0.869248                 0.221934   \n",
       " Issue                         0.869248  1.000000                 0.257098   \n",
       " Company public response       0.221934  0.257098                 1.000000   \n",
       " Company response to consumer  0.294712  0.350312                 0.115133   \n",
       " Timely response?              0.125438  0.171080                 0.112543   \n",
       " \n",
       "                               Company response to consumer  Timely response?  \n",
       " Product                                           0.294712          0.125438  \n",
       " Issue                                             0.350312          0.171080  \n",
       " Company public response                           0.115133          0.112543  \n",
       " Company response to consumer                      1.000000          0.051474  \n",
       " Timely response?                                  0.051474          1.000000  ,\n",
       " 'ax': <Axes: >}"
      ]
     },
     "execution_count": 87,
     "metadata": {},
     "output_type": "execute_result"
    }
   ],
   "source": [
    "associations(df_timely_response)\n"
   ]
  },
  {
   "cell_type": "markdown",
   "metadata": {},
   "source": [
    "Pipeline to predict response time in buisiness days using issue, company public response, company response to consumer"
   ]
  },
  {
   "cell_type": "code",
   "execution_count": 88,
   "metadata": {},
   "outputs": [],
   "source": [
    "df_response_time = df[['Issue', 'Company public response', 'Company response to consumer', 'Business Days']]"
   ]
  },
  {
   "cell_type": "code",
   "execution_count": 89,
   "metadata": {},
   "outputs": [
    {
     "data": {
      "text/plain": [
       "'\\nProduct #need to actually remove Product because Issues are unique \\nIssue\\nCompany public response\\nCompany response to consumer\\n'"
      ]
     },
     "execution_count": 89,
     "metadata": {},
     "output_type": "execute_result"
    }
   ],
   "source": [
    "# One-hot encode categorical columns\n",
    "\"\"\"\n",
    "Product #need to actually remove Product because Issues are unique \n",
    "Issue\n",
    "Company public response\n",
    "Company response to consumer\n",
    "\"\"\"\n"
   ]
  },
  {
   "cell_type": "code",
   "execution_count": 90,
   "metadata": {},
   "outputs": [],
   "source": [
    "columns_to_encode = ['Issue', 'Company public response', 'Company response to consumer']"
   ]
  },
  {
   "cell_type": "code",
   "execution_count": 108,
   "metadata": {},
   "outputs": [],
   "source": [
    "df_response_time_encoded = pd.get_dummies(df_response_time, columns=columns_to_encode).astype(int)"
   ]
  },
  {
   "cell_type": "code",
   "execution_count": 109,
   "metadata": {},
   "outputs": [
    {
     "name": "stdout",
     "output_type": "stream",
     "text": [
      "   Business Days  Issue_APR or interest rate  \\\n",
      "0              0                           0   \n",
      "1              4                           0   \n",
      "2             17                           0   \n",
      "3              0                           0   \n",
      "4              0                           0   \n",
      "\n",
      "   Issue_Account opening, closing, or management  Issue_Advertising  \\\n",
      "0                                              0                  0   \n",
      "1                                              0                  0   \n",
      "2                                              0                  0   \n",
      "3                                              1                  0   \n",
      "4                                              0                  0   \n",
      "\n",
      "   Issue_Advertising and marketing  \\\n",
      "0                                0   \n",
      "1                                0   \n",
      "2                                0   \n",
      "3                                0   \n",
      "4                                0   \n",
      "\n",
      "   Issue_Advertising and marketing, including promotional offers  \\\n",
      "0                                                  0               \n",
      "1                                                  0               \n",
      "2                                                  0               \n",
      "3                                                  0               \n",
      "4                                                  0               \n",
      "\n",
      "   Issue_Application, originator, mortgage broker  \\\n",
      "0                                               0   \n",
      "1                                               0   \n",
      "2                                               0   \n",
      "3                                               0   \n",
      "4                                               0   \n",
      "\n",
      "   Issue_Applying for a mortgage or refinancing an existing mortgage  \\\n",
      "0                                                  0                   \n",
      "1                                                  0                   \n",
      "2                                                  0                   \n",
      "3                                                  0                   \n",
      "4                                                  0                   \n",
      "\n",
      "   Issue_Attempts to collect debt not owed  Issue_Balance transfer  ...  \\\n",
      "0                                        0                       0  ...   \n",
      "1                                        0                       0  ...   \n",
      "2                                        1                       0  ...   \n",
      "3                                        0                       0  ...   \n",
      "4                                        0                       0  ...   \n",
      "\n",
      "   Company public response_Company believes the complaint is the result of a misunderstanding  \\\n",
      "0                                                  0                                            \n",
      "1                                                  0                                            \n",
      "2                                                  0                                            \n",
      "3                                                  0                                            \n",
      "4                                                  0                                            \n",
      "\n",
      "   Company public response_Company believes the complaint provided an opportunity to answer consumer's questions  \\\n",
      "0                                                  0                                                               \n",
      "1                                                  0                                                               \n",
      "2                                                  0                                                               \n",
      "3                                                  0                                                               \n",
      "4                                                  0                                                               \n",
      "\n",
      "   Company public response_Company can't verify or dispute the facts in the complaint  \\\n",
      "0                                                  0                                    \n",
      "1                                                  0                                    \n",
      "2                                                  0                                    \n",
      "3                                                  0                                    \n",
      "4                                                  0                                    \n",
      "\n",
      "   Company public response_Company chooses not to provide a public response  \\\n",
      "0                                                  0                          \n",
      "1                                                  0                          \n",
      "2                                                  0                          \n",
      "3                                                  0                          \n",
      "4                                                  0                          \n",
      "\n",
      "   Company public response_Company disputes the facts presented in the complaint  \\\n",
      "0                                                  0                               \n",
      "1                                                  0                               \n",
      "2                                                  0                               \n",
      "3                                                  0                               \n",
      "4                                                  0                               \n",
      "\n",
      "   Company public response_Company has responded to the consumer and the CFPB and chooses not to provide a public response  \\\n",
      "0                                                  1                                                                         \n",
      "1                                                  1                                                                         \n",
      "2                                                  1                                                                         \n",
      "3                                                  1                                                                         \n",
      "4                                                  1                                                                         \n",
      "\n",
      "   Company response to consumer_Closed  \\\n",
      "0                                    0   \n",
      "1                                    0   \n",
      "2                                    0   \n",
      "3                                    0   \n",
      "4                                    0   \n",
      "\n",
      "   Company response to consumer_Closed with explanation  \\\n",
      "0                                                  1      \n",
      "1                                                  0      \n",
      "2                                                  1      \n",
      "3                                                  0      \n",
      "4                                                  1      \n",
      "\n",
      "   Company response to consumer_Closed with monetary relief  \\\n",
      "0                                                  0          \n",
      "1                                                  0          \n",
      "2                                                  0          \n",
      "3                                                  1          \n",
      "4                                                  0          \n",
      "\n",
      "   Company response to consumer_Closed with non-monetary relief  \n",
      "0                                                  0             \n",
      "1                                                  1             \n",
      "2                                                  0             \n",
      "3                                                  0             \n",
      "4                                                  0             \n",
      "\n",
      "[5 rows x 142 columns]\n"
     ]
    }
   ],
   "source": [
    "print(df_response_time_encoded.head())"
   ]
  },
  {
   "cell_type": "code",
   "execution_count": 110,
   "metadata": {},
   "outputs": [],
   "source": [
    "# Define features (X) and target (y)\n",
    "X = df_response_time_encoded.drop(['Business Days'], axis=1)\n",
    "y = df_response_time_encoded['Business Days']\n",
    "\n",
    "# Split the data into train, test and validation sets\n",
    "X_train, X_temp, y_train, y_temp = train_test_split(X, y, test_size=0.4, random_state=42)\n",
    "\n",
    "X_val, X_test, y_val, y_test = train_test_split(X_temp, y_temp, test_size=0.5, random_state=42)\n"
   ]
  },
  {
   "cell_type": "code",
   "execution_count": 94,
   "metadata": {},
   "outputs": [
    {
     "data": {
      "text/plain": [
       "Business Days\n",
       "0      1237\n",
       "1       375\n",
       "2       254\n",
       "3       183\n",
       "4       119\n",
       "5       116\n",
       "8        62\n",
       "7        53\n",
       "11       52\n",
       "6        51\n",
       "12       51\n",
       "13       49\n",
       "9        47\n",
       "15       37\n",
       "10       33\n",
       "17       26\n",
       "14       26\n",
       "16       22\n",
       "20       21\n",
       "22       18\n",
       "26       16\n",
       "18       15\n",
       "24       14\n",
       "19       13\n",
       "25       12\n",
       "23       12\n",
       "21       11\n",
       "28        7\n",
       "27        6\n",
       "30        6\n",
       "33        5\n",
       "39        4\n",
       "34        4\n",
       "45        4\n",
       "32        3\n",
       "36        3\n",
       "29        3\n",
       "35        2\n",
       "47        2\n",
       "37        2\n",
       "43        2\n",
       "38        2\n",
       "41        2\n",
       "31        2\n",
       "120       1\n",
       "90        1\n",
       "59        1\n",
       "53        1\n",
       "64        1\n",
       "63        1\n",
       "67        1\n",
       "60        1\n",
       "62        1\n",
       "65        1\n",
       "83        1\n",
       "151       1\n",
       "105       1\n",
       "87        1\n",
       "79        1\n",
       "54        1\n",
       "Name: count, dtype: int64"
      ]
     },
     "execution_count": 94,
     "metadata": {},
     "output_type": "execute_result"
    }
   ],
   "source": [
    "y_train.value_counts()"
   ]
  },
  {
   "cell_type": "code",
   "execution_count": 95,
   "metadata": {},
   "outputs": [],
   "source": [
    "from sklearn.ensemble import GradientBoostingRegressor\n"
   ]
  },
  {
   "cell_type": "code",
   "execution_count": 96,
   "metadata": {},
   "outputs": [],
   "source": [
    "# Initialize Gradient Boosting Classifier\n",
    "gb = GradientBoostingRegressor(random_state=42)\n",
    "\n",
    "# Define hyperparameters to tune\n"
   ]
  },
  {
   "cell_type": "code",
   "execution_count": 97,
   "metadata": {},
   "outputs": [],
   "source": [
    "param_grid = {\n",
    "    'n_estimators': [50, 100, 200],\n",
    "    'learning_rate': [0.05, 0.1, 0.2],\n",
    "    'max_depth': [3, 4, 5],\n",
    "    'min_samples_split': [2, 5, 10]\n",
    "}"
   ]
  },
  {
   "cell_type": "code",
   "execution_count": 98,
   "metadata": {},
   "outputs": [],
   "source": [
    "# Set up GridSearchCV\n",
    "grid_search = GridSearchCV(estimator=gb, param_grid=param_grid, cv=3, scoring='accuracy', verbose=1, n_jobs=-1)\n"
   ]
  },
  {
   "cell_type": "code",
   "execution_count": 99,
   "metadata": {},
   "outputs": [
    {
     "name": "stdout",
     "output_type": "stream",
     "text": [
      "Tuning hyperparameters with GridSearchCV...\n",
      "Fitting 3 folds for each of 81 candidates, totalling 243 fits\n"
     ]
    },
    {
     "name": "stderr",
     "output_type": "stream",
     "text": [
      "c:\\Users\\masha\\AppData\\Local\\Programs\\Python\\Python312\\Lib\\site-packages\\sklearn\\model_selection\\_search.py:1051: UserWarning: One or more of the test scores are non-finite: [nan nan nan nan nan nan nan nan nan nan nan nan nan nan nan nan nan nan\n",
      " nan nan nan nan nan nan nan nan nan nan nan nan nan nan nan nan nan nan\n",
      " nan nan nan nan nan nan nan nan nan nan nan nan nan nan nan nan nan nan\n",
      " nan nan nan nan nan nan nan nan nan nan nan nan nan nan nan nan nan nan\n",
      " nan nan nan nan nan nan nan nan nan]\n",
      "  warnings.warn(\n"
     ]
    },
    {
     "data": {
      "text/html": [
       "<style>#sk-container-id-4 {\n",
       "  /* Definition of color scheme common for light and dark mode */\n",
       "  --sklearn-color-text: black;\n",
       "  --sklearn-color-line: gray;\n",
       "  /* Definition of color scheme for unfitted estimators */\n",
       "  --sklearn-color-unfitted-level-0: #fff5e6;\n",
       "  --sklearn-color-unfitted-level-1: #f6e4d2;\n",
       "  --sklearn-color-unfitted-level-2: #ffe0b3;\n",
       "  --sklearn-color-unfitted-level-3: chocolate;\n",
       "  /* Definition of color scheme for fitted estimators */\n",
       "  --sklearn-color-fitted-level-0: #f0f8ff;\n",
       "  --sklearn-color-fitted-level-1: #d4ebff;\n",
       "  --sklearn-color-fitted-level-2: #b3dbfd;\n",
       "  --sklearn-color-fitted-level-3: cornflowerblue;\n",
       "\n",
       "  /* Specific color for light theme */\n",
       "  --sklearn-color-text-on-default-background: var(--sg-text-color, var(--theme-code-foreground, var(--jp-content-font-color1, black)));\n",
       "  --sklearn-color-background: var(--sg-background-color, var(--theme-background, var(--jp-layout-color0, white)));\n",
       "  --sklearn-color-border-box: var(--sg-text-color, var(--theme-code-foreground, var(--jp-content-font-color1, black)));\n",
       "  --sklearn-color-icon: #696969;\n",
       "\n",
       "  @media (prefers-color-scheme: dark) {\n",
       "    /* Redefinition of color scheme for dark theme */\n",
       "    --sklearn-color-text-on-default-background: var(--sg-text-color, var(--theme-code-foreground, var(--jp-content-font-color1, white)));\n",
       "    --sklearn-color-background: var(--sg-background-color, var(--theme-background, var(--jp-layout-color0, #111)));\n",
       "    --sklearn-color-border-box: var(--sg-text-color, var(--theme-code-foreground, var(--jp-content-font-color1, white)));\n",
       "    --sklearn-color-icon: #878787;\n",
       "  }\n",
       "}\n",
       "\n",
       "#sk-container-id-4 {\n",
       "  color: var(--sklearn-color-text);\n",
       "}\n",
       "\n",
       "#sk-container-id-4 pre {\n",
       "  padding: 0;\n",
       "}\n",
       "\n",
       "#sk-container-id-4 input.sk-hidden--visually {\n",
       "  border: 0;\n",
       "  clip: rect(1px 1px 1px 1px);\n",
       "  clip: rect(1px, 1px, 1px, 1px);\n",
       "  height: 1px;\n",
       "  margin: -1px;\n",
       "  overflow: hidden;\n",
       "  padding: 0;\n",
       "  position: absolute;\n",
       "  width: 1px;\n",
       "}\n",
       "\n",
       "#sk-container-id-4 div.sk-dashed-wrapped {\n",
       "  border: 1px dashed var(--sklearn-color-line);\n",
       "  margin: 0 0.4em 0.5em 0.4em;\n",
       "  box-sizing: border-box;\n",
       "  padding-bottom: 0.4em;\n",
       "  background-color: var(--sklearn-color-background);\n",
       "}\n",
       "\n",
       "#sk-container-id-4 div.sk-container {\n",
       "  /* jupyter's `normalize.less` sets `[hidden] { display: none; }`\n",
       "     but bootstrap.min.css set `[hidden] { display: none !important; }`\n",
       "     so we also need the `!important` here to be able to override the\n",
       "     default hidden behavior on the sphinx rendered scikit-learn.org.\n",
       "     See: https://github.com/scikit-learn/scikit-learn/issues/21755 */\n",
       "  display: inline-block !important;\n",
       "  position: relative;\n",
       "}\n",
       "\n",
       "#sk-container-id-4 div.sk-text-repr-fallback {\n",
       "  display: none;\n",
       "}\n",
       "\n",
       "div.sk-parallel-item,\n",
       "div.sk-serial,\n",
       "div.sk-item {\n",
       "  /* draw centered vertical line to link estimators */\n",
       "  background-image: linear-gradient(var(--sklearn-color-text-on-default-background), var(--sklearn-color-text-on-default-background));\n",
       "  background-size: 2px 100%;\n",
       "  background-repeat: no-repeat;\n",
       "  background-position: center center;\n",
       "}\n",
       "\n",
       "/* Parallel-specific style estimator block */\n",
       "\n",
       "#sk-container-id-4 div.sk-parallel-item::after {\n",
       "  content: \"\";\n",
       "  width: 100%;\n",
       "  border-bottom: 2px solid var(--sklearn-color-text-on-default-background);\n",
       "  flex-grow: 1;\n",
       "}\n",
       "\n",
       "#sk-container-id-4 div.sk-parallel {\n",
       "  display: flex;\n",
       "  align-items: stretch;\n",
       "  justify-content: center;\n",
       "  background-color: var(--sklearn-color-background);\n",
       "  position: relative;\n",
       "}\n",
       "\n",
       "#sk-container-id-4 div.sk-parallel-item {\n",
       "  display: flex;\n",
       "  flex-direction: column;\n",
       "}\n",
       "\n",
       "#sk-container-id-4 div.sk-parallel-item:first-child::after {\n",
       "  align-self: flex-end;\n",
       "  width: 50%;\n",
       "}\n",
       "\n",
       "#sk-container-id-4 div.sk-parallel-item:last-child::after {\n",
       "  align-self: flex-start;\n",
       "  width: 50%;\n",
       "}\n",
       "\n",
       "#sk-container-id-4 div.sk-parallel-item:only-child::after {\n",
       "  width: 0;\n",
       "}\n",
       "\n",
       "/* Serial-specific style estimator block */\n",
       "\n",
       "#sk-container-id-4 div.sk-serial {\n",
       "  display: flex;\n",
       "  flex-direction: column;\n",
       "  align-items: center;\n",
       "  background-color: var(--sklearn-color-background);\n",
       "  padding-right: 1em;\n",
       "  padding-left: 1em;\n",
       "}\n",
       "\n",
       "\n",
       "/* Toggleable style: style used for estimator/Pipeline/ColumnTransformer box that is\n",
       "clickable and can be expanded/collapsed.\n",
       "- Pipeline and ColumnTransformer use this feature and define the default style\n",
       "- Estimators will overwrite some part of the style using the `sk-estimator` class\n",
       "*/\n",
       "\n",
       "/* Pipeline and ColumnTransformer style (default) */\n",
       "\n",
       "#sk-container-id-4 div.sk-toggleable {\n",
       "  /* Default theme specific background. It is overwritten whether we have a\n",
       "  specific estimator or a Pipeline/ColumnTransformer */\n",
       "  background-color: var(--sklearn-color-background);\n",
       "}\n",
       "\n",
       "/* Toggleable label */\n",
       "#sk-container-id-4 label.sk-toggleable__label {\n",
       "  cursor: pointer;\n",
       "  display: block;\n",
       "  width: 100%;\n",
       "  margin-bottom: 0;\n",
       "  padding: 0.5em;\n",
       "  box-sizing: border-box;\n",
       "  text-align: center;\n",
       "}\n",
       "\n",
       "#sk-container-id-4 label.sk-toggleable__label-arrow:before {\n",
       "  /* Arrow on the left of the label */\n",
       "  content: \"▸\";\n",
       "  float: left;\n",
       "  margin-right: 0.25em;\n",
       "  color: var(--sklearn-color-icon);\n",
       "}\n",
       "\n",
       "#sk-container-id-4 label.sk-toggleable__label-arrow:hover:before {\n",
       "  color: var(--sklearn-color-text);\n",
       "}\n",
       "\n",
       "/* Toggleable content - dropdown */\n",
       "\n",
       "#sk-container-id-4 div.sk-toggleable__content {\n",
       "  max-height: 0;\n",
       "  max-width: 0;\n",
       "  overflow: hidden;\n",
       "  text-align: left;\n",
       "  /* unfitted */\n",
       "  background-color: var(--sklearn-color-unfitted-level-0);\n",
       "}\n",
       "\n",
       "#sk-container-id-4 div.sk-toggleable__content.fitted {\n",
       "  /* fitted */\n",
       "  background-color: var(--sklearn-color-fitted-level-0);\n",
       "}\n",
       "\n",
       "#sk-container-id-4 div.sk-toggleable__content pre {\n",
       "  margin: 0.2em;\n",
       "  border-radius: 0.25em;\n",
       "  color: var(--sklearn-color-text);\n",
       "  /* unfitted */\n",
       "  background-color: var(--sklearn-color-unfitted-level-0);\n",
       "}\n",
       "\n",
       "#sk-container-id-4 div.sk-toggleable__content.fitted pre {\n",
       "  /* unfitted */\n",
       "  background-color: var(--sklearn-color-fitted-level-0);\n",
       "}\n",
       "\n",
       "#sk-container-id-4 input.sk-toggleable__control:checked~div.sk-toggleable__content {\n",
       "  /* Expand drop-down */\n",
       "  max-height: 200px;\n",
       "  max-width: 100%;\n",
       "  overflow: auto;\n",
       "}\n",
       "\n",
       "#sk-container-id-4 input.sk-toggleable__control:checked~label.sk-toggleable__label-arrow:before {\n",
       "  content: \"▾\";\n",
       "}\n",
       "\n",
       "/* Pipeline/ColumnTransformer-specific style */\n",
       "\n",
       "#sk-container-id-4 div.sk-label input.sk-toggleable__control:checked~label.sk-toggleable__label {\n",
       "  color: var(--sklearn-color-text);\n",
       "  background-color: var(--sklearn-color-unfitted-level-2);\n",
       "}\n",
       "\n",
       "#sk-container-id-4 div.sk-label.fitted input.sk-toggleable__control:checked~label.sk-toggleable__label {\n",
       "  background-color: var(--sklearn-color-fitted-level-2);\n",
       "}\n",
       "\n",
       "/* Estimator-specific style */\n",
       "\n",
       "/* Colorize estimator box */\n",
       "#sk-container-id-4 div.sk-estimator input.sk-toggleable__control:checked~label.sk-toggleable__label {\n",
       "  /* unfitted */\n",
       "  background-color: var(--sklearn-color-unfitted-level-2);\n",
       "}\n",
       "\n",
       "#sk-container-id-4 div.sk-estimator.fitted input.sk-toggleable__control:checked~label.sk-toggleable__label {\n",
       "  /* fitted */\n",
       "  background-color: var(--sklearn-color-fitted-level-2);\n",
       "}\n",
       "\n",
       "#sk-container-id-4 div.sk-label label.sk-toggleable__label,\n",
       "#sk-container-id-4 div.sk-label label {\n",
       "  /* The background is the default theme color */\n",
       "  color: var(--sklearn-color-text-on-default-background);\n",
       "}\n",
       "\n",
       "/* On hover, darken the color of the background */\n",
       "#sk-container-id-4 div.sk-label:hover label.sk-toggleable__label {\n",
       "  color: var(--sklearn-color-text);\n",
       "  background-color: var(--sklearn-color-unfitted-level-2);\n",
       "}\n",
       "\n",
       "/* Label box, darken color on hover, fitted */\n",
       "#sk-container-id-4 div.sk-label.fitted:hover label.sk-toggleable__label.fitted {\n",
       "  color: var(--sklearn-color-text);\n",
       "  background-color: var(--sklearn-color-fitted-level-2);\n",
       "}\n",
       "\n",
       "/* Estimator label */\n",
       "\n",
       "#sk-container-id-4 div.sk-label label {\n",
       "  font-family: monospace;\n",
       "  font-weight: bold;\n",
       "  display: inline-block;\n",
       "  line-height: 1.2em;\n",
       "}\n",
       "\n",
       "#sk-container-id-4 div.sk-label-container {\n",
       "  text-align: center;\n",
       "}\n",
       "\n",
       "/* Estimator-specific */\n",
       "#sk-container-id-4 div.sk-estimator {\n",
       "  font-family: monospace;\n",
       "  border: 1px dotted var(--sklearn-color-border-box);\n",
       "  border-radius: 0.25em;\n",
       "  box-sizing: border-box;\n",
       "  margin-bottom: 0.5em;\n",
       "  /* unfitted */\n",
       "  background-color: var(--sklearn-color-unfitted-level-0);\n",
       "}\n",
       "\n",
       "#sk-container-id-4 div.sk-estimator.fitted {\n",
       "  /* fitted */\n",
       "  background-color: var(--sklearn-color-fitted-level-0);\n",
       "}\n",
       "\n",
       "/* on hover */\n",
       "#sk-container-id-4 div.sk-estimator:hover {\n",
       "  /* unfitted */\n",
       "  background-color: var(--sklearn-color-unfitted-level-2);\n",
       "}\n",
       "\n",
       "#sk-container-id-4 div.sk-estimator.fitted:hover {\n",
       "  /* fitted */\n",
       "  background-color: var(--sklearn-color-fitted-level-2);\n",
       "}\n",
       "\n",
       "/* Specification for estimator info (e.g. \"i\" and \"?\") */\n",
       "\n",
       "/* Common style for \"i\" and \"?\" */\n",
       "\n",
       ".sk-estimator-doc-link,\n",
       "a:link.sk-estimator-doc-link,\n",
       "a:visited.sk-estimator-doc-link {\n",
       "  float: right;\n",
       "  font-size: smaller;\n",
       "  line-height: 1em;\n",
       "  font-family: monospace;\n",
       "  background-color: var(--sklearn-color-background);\n",
       "  border-radius: 1em;\n",
       "  height: 1em;\n",
       "  width: 1em;\n",
       "  text-decoration: none !important;\n",
       "  margin-left: 1ex;\n",
       "  /* unfitted */\n",
       "  border: var(--sklearn-color-unfitted-level-1) 1pt solid;\n",
       "  color: var(--sklearn-color-unfitted-level-1);\n",
       "}\n",
       "\n",
       ".sk-estimator-doc-link.fitted,\n",
       "a:link.sk-estimator-doc-link.fitted,\n",
       "a:visited.sk-estimator-doc-link.fitted {\n",
       "  /* fitted */\n",
       "  border: var(--sklearn-color-fitted-level-1) 1pt solid;\n",
       "  color: var(--sklearn-color-fitted-level-1);\n",
       "}\n",
       "\n",
       "/* On hover */\n",
       "div.sk-estimator:hover .sk-estimator-doc-link:hover,\n",
       ".sk-estimator-doc-link:hover,\n",
       "div.sk-label-container:hover .sk-estimator-doc-link:hover,\n",
       ".sk-estimator-doc-link:hover {\n",
       "  /* unfitted */\n",
       "  background-color: var(--sklearn-color-unfitted-level-3);\n",
       "  color: var(--sklearn-color-background);\n",
       "  text-decoration: none;\n",
       "}\n",
       "\n",
       "div.sk-estimator.fitted:hover .sk-estimator-doc-link.fitted:hover,\n",
       ".sk-estimator-doc-link.fitted:hover,\n",
       "div.sk-label-container:hover .sk-estimator-doc-link.fitted:hover,\n",
       ".sk-estimator-doc-link.fitted:hover {\n",
       "  /* fitted */\n",
       "  background-color: var(--sklearn-color-fitted-level-3);\n",
       "  color: var(--sklearn-color-background);\n",
       "  text-decoration: none;\n",
       "}\n",
       "\n",
       "/* Span, style for the box shown on hovering the info icon */\n",
       ".sk-estimator-doc-link span {\n",
       "  display: none;\n",
       "  z-index: 9999;\n",
       "  position: relative;\n",
       "  font-weight: normal;\n",
       "  right: .2ex;\n",
       "  padding: .5ex;\n",
       "  margin: .5ex;\n",
       "  width: min-content;\n",
       "  min-width: 20ex;\n",
       "  max-width: 50ex;\n",
       "  color: var(--sklearn-color-text);\n",
       "  box-shadow: 2pt 2pt 4pt #999;\n",
       "  /* unfitted */\n",
       "  background: var(--sklearn-color-unfitted-level-0);\n",
       "  border: .5pt solid var(--sklearn-color-unfitted-level-3);\n",
       "}\n",
       "\n",
       ".sk-estimator-doc-link.fitted span {\n",
       "  /* fitted */\n",
       "  background: var(--sklearn-color-fitted-level-0);\n",
       "  border: var(--sklearn-color-fitted-level-3);\n",
       "}\n",
       "\n",
       ".sk-estimator-doc-link:hover span {\n",
       "  display: block;\n",
       "}\n",
       "\n",
       "/* \"?\"-specific style due to the `<a>` HTML tag */\n",
       "\n",
       "#sk-container-id-4 a.estimator_doc_link {\n",
       "  float: right;\n",
       "  font-size: 1rem;\n",
       "  line-height: 1em;\n",
       "  font-family: monospace;\n",
       "  background-color: var(--sklearn-color-background);\n",
       "  border-radius: 1rem;\n",
       "  height: 1rem;\n",
       "  width: 1rem;\n",
       "  text-decoration: none;\n",
       "  /* unfitted */\n",
       "  color: var(--sklearn-color-unfitted-level-1);\n",
       "  border: var(--sklearn-color-unfitted-level-1) 1pt solid;\n",
       "}\n",
       "\n",
       "#sk-container-id-4 a.estimator_doc_link.fitted {\n",
       "  /* fitted */\n",
       "  border: var(--sklearn-color-fitted-level-1) 1pt solid;\n",
       "  color: var(--sklearn-color-fitted-level-1);\n",
       "}\n",
       "\n",
       "/* On hover */\n",
       "#sk-container-id-4 a.estimator_doc_link:hover {\n",
       "  /* unfitted */\n",
       "  background-color: var(--sklearn-color-unfitted-level-3);\n",
       "  color: var(--sklearn-color-background);\n",
       "  text-decoration: none;\n",
       "}\n",
       "\n",
       "#sk-container-id-4 a.estimator_doc_link.fitted:hover {\n",
       "  /* fitted */\n",
       "  background-color: var(--sklearn-color-fitted-level-3);\n",
       "}\n",
       "</style><div id=\"sk-container-id-4\" class=\"sk-top-container\"><div class=\"sk-text-repr-fallback\"><pre>GridSearchCV(cv=3, estimator=GradientBoostingRegressor(random_state=42),\n",
       "             n_jobs=-1,\n",
       "             param_grid={&#x27;learning_rate&#x27;: [0.05, 0.1, 0.2],\n",
       "                         &#x27;max_depth&#x27;: [3, 4, 5],\n",
       "                         &#x27;min_samples_split&#x27;: [2, 5, 10],\n",
       "                         &#x27;n_estimators&#x27;: [50, 100, 200]},\n",
       "             scoring=&#x27;accuracy&#x27;, verbose=1)</pre><b>In a Jupyter environment, please rerun this cell to show the HTML representation or trust the notebook. <br />On GitHub, the HTML representation is unable to render, please try loading this page with nbviewer.org.</b></div><div class=\"sk-container\" hidden><div class=\"sk-item sk-dashed-wrapped\"><div class=\"sk-label-container\"><div class=\"sk-label fitted sk-toggleable\"><input class=\"sk-toggleable__control sk-hidden--visually\" id=\"sk-estimator-id-8\" type=\"checkbox\" ><label for=\"sk-estimator-id-8\" class=\"sk-toggleable__label fitted sk-toggleable__label-arrow fitted\">&nbsp;&nbsp;GridSearchCV<a class=\"sk-estimator-doc-link fitted\" rel=\"noreferrer\" target=\"_blank\" href=\"https://scikit-learn.org/1.4/modules/generated/sklearn.model_selection.GridSearchCV.html\">?<span>Documentation for GridSearchCV</span></a><span class=\"sk-estimator-doc-link fitted\">i<span>Fitted</span></span></label><div class=\"sk-toggleable__content fitted\"><pre>GridSearchCV(cv=3, estimator=GradientBoostingRegressor(random_state=42),\n",
       "             n_jobs=-1,\n",
       "             param_grid={&#x27;learning_rate&#x27;: [0.05, 0.1, 0.2],\n",
       "                         &#x27;max_depth&#x27;: [3, 4, 5],\n",
       "                         &#x27;min_samples_split&#x27;: [2, 5, 10],\n",
       "                         &#x27;n_estimators&#x27;: [50, 100, 200]},\n",
       "             scoring=&#x27;accuracy&#x27;, verbose=1)</pre></div> </div></div><div class=\"sk-parallel\"><div class=\"sk-parallel-item\"><div class=\"sk-item\"><div class=\"sk-label-container\"><div class=\"sk-label fitted sk-toggleable\"><input class=\"sk-toggleable__control sk-hidden--visually\" id=\"sk-estimator-id-9\" type=\"checkbox\" ><label for=\"sk-estimator-id-9\" class=\"sk-toggleable__label fitted sk-toggleable__label-arrow fitted\">estimator: GradientBoostingRegressor</label><div class=\"sk-toggleable__content fitted\"><pre>GradientBoostingRegressor(random_state=42)</pre></div> </div></div><div class=\"sk-serial\"><div class=\"sk-item\"><div class=\"sk-estimator fitted sk-toggleable\"><input class=\"sk-toggleable__control sk-hidden--visually\" id=\"sk-estimator-id-10\" type=\"checkbox\" ><label for=\"sk-estimator-id-10\" class=\"sk-toggleable__label fitted sk-toggleable__label-arrow fitted\">&nbsp;GradientBoostingRegressor<a class=\"sk-estimator-doc-link fitted\" rel=\"noreferrer\" target=\"_blank\" href=\"https://scikit-learn.org/1.4/modules/generated/sklearn.ensemble.GradientBoostingRegressor.html\">?<span>Documentation for GradientBoostingRegressor</span></a></label><div class=\"sk-toggleable__content fitted\"><pre>GradientBoostingRegressor(random_state=42)</pre></div> </div></div></div></div></div></div></div></div></div>"
      ],
      "text/plain": [
       "GridSearchCV(cv=3, estimator=GradientBoostingRegressor(random_state=42),\n",
       "             n_jobs=-1,\n",
       "             param_grid={'learning_rate': [0.05, 0.1, 0.2],\n",
       "                         'max_depth': [3, 4, 5],\n",
       "                         'min_samples_split': [2, 5, 10],\n",
       "                         'n_estimators': [50, 100, 200]},\n",
       "             scoring='accuracy', verbose=1)"
      ]
     },
     "execution_count": 99,
     "metadata": {},
     "output_type": "execute_result"
    }
   ],
   "source": [
    "# Fit the model\n",
    "print(\"Tuning hyperparameters with GridSearchCV...\")\n",
    "grid_search.fit(X_train, y_train)"
   ]
  },
  {
   "cell_type": "code",
   "execution_count": 100,
   "metadata": {},
   "outputs": [
    {
     "name": "stdout",
     "output_type": "stream",
     "text": [
      "Best hyperparameters: {'learning_rate': 0.05, 'max_depth': 3, 'min_samples_split': 2, 'n_estimators': 50}\n"
     ]
    }
   ],
   "source": [
    "# Best parameters\n",
    "print(\"Best hyperparameters:\", grid_search.best_params_)"
   ]
  },
  {
   "cell_type": "code",
   "execution_count": 101,
   "metadata": {},
   "outputs": [],
   "source": [
    "# Evaluate on validation set\n",
    "best_model = grid_search.best_estimator_\n",
    "y_val_pred = best_model.predict(X_val)"
   ]
  },
  {
   "cell_type": "code",
   "execution_count": 102,
   "metadata": {},
   "outputs": [
    {
     "name": "stdout",
     "output_type": "stream",
     "text": [
      "Mean Absolute Error (MAE): 5.3220\n",
      "Mean Squared Error (MSE): 76.5776\n",
      "Root Mean Squared Error (RMSE): 8.7509\n",
      "R² Score: 0.0520\n"
     ]
    }
   ],
   "source": [
    "from sklearn.metrics import mean_absolute_error, mean_squared_error, r2_score\n",
    "import numpy as np\n",
    "# Compute evaluation metrics\n",
    "mae = mean_absolute_error(y_val, y_val_pred)\n",
    "mse = mean_squared_error(y_val, y_val_pred)\n",
    "rmse = np.sqrt(mse)\n",
    "r2 = r2_score(y_val, y_val_pred)\n",
    "\n",
    "# Print results\n",
    "print(f\"Mean Absolute Error (MAE): {mae:.4f}\")\n",
    "print(f\"Mean Squared Error (MSE): {mse:.4f}\")\n",
    "print(f\"Root Mean Squared Error (RMSE): {rmse:.4f}\")\n",
    "print(f\"R² Score: {r2:.4f}\")"
   ]
  },
  {
   "cell_type": "code",
   "execution_count": 111,
   "metadata": {},
   "outputs": [],
   "source": [
    "df_response_time_encoded['Speedy'] = df_response_time_encoded['Business Days'].apply(lambda x: 1 if x == 0 else 0)\n"
   ]
  },
  {
   "cell_type": "code",
   "execution_count": 113,
   "metadata": {},
   "outputs": [
    {
     "name": "stdout",
     "output_type": "stream",
     "text": [
      "      Business Days  Issue_APR or interest rate  \\\n",
      "0                 0                           0   \n",
      "1                 4                           0   \n",
      "2                17                           0   \n",
      "3                 0                           0   \n",
      "4                 0                           0   \n",
      "...             ...                         ...   \n",
      "4995              1                           0   \n",
      "4996              0                           0   \n",
      "4997              1                           0   \n",
      "4998              6                           0   \n",
      "4999              0                           0   \n",
      "\n",
      "      Issue_Account opening, closing, or management  Issue_Advertising  \\\n",
      "0                                                 0                  0   \n",
      "1                                                 0                  0   \n",
      "2                                                 0                  0   \n",
      "3                                                 1                  0   \n",
      "4                                                 0                  0   \n",
      "...                                             ...                ...   \n",
      "4995                                              0                  0   \n",
      "4996                                              0                  0   \n",
      "4997                                              0                  0   \n",
      "4998                                              0                  0   \n",
      "4999                                              0                  0   \n",
      "\n",
      "      Issue_Advertising and marketing  \\\n",
      "0                                   0   \n",
      "1                                   0   \n",
      "2                                   0   \n",
      "3                                   0   \n",
      "4                                   0   \n",
      "...                               ...   \n",
      "4995                                0   \n",
      "4996                                0   \n",
      "4997                                0   \n",
      "4998                                0   \n",
      "4999                                0   \n",
      "\n",
      "      Issue_Advertising and marketing, including promotional offers  \\\n",
      "0                                                     0               \n",
      "1                                                     0               \n",
      "2                                                     0               \n",
      "3                                                     0               \n",
      "4                                                     0               \n",
      "...                                                 ...               \n",
      "4995                                                  0               \n",
      "4996                                                  0               \n",
      "4997                                                  0               \n",
      "4998                                                  0               \n",
      "4999                                                  0               \n",
      "\n",
      "      Issue_Application, originator, mortgage broker  \\\n",
      "0                                                  0   \n",
      "1                                                  0   \n",
      "2                                                  0   \n",
      "3                                                  0   \n",
      "4                                                  0   \n",
      "...                                              ...   \n",
      "4995                                               0   \n",
      "4996                                               0   \n",
      "4997                                               0   \n",
      "4998                                               0   \n",
      "4999                                               0   \n",
      "\n",
      "      Issue_Applying for a mortgage or refinancing an existing mortgage  \\\n",
      "0                                                     0                   \n",
      "1                                                     0                   \n",
      "2                                                     0                   \n",
      "3                                                     0                   \n",
      "4                                                     0                   \n",
      "...                                                 ...                   \n",
      "4995                                                  0                   \n",
      "4996                                                  0                   \n",
      "4997                                                  0                   \n",
      "4998                                                  0                   \n",
      "4999                                                  0                   \n",
      "\n",
      "      Issue_Attempts to collect debt not owed  Issue_Balance transfer  ...  \\\n",
      "0                                           0                       0  ...   \n",
      "1                                           0                       0  ...   \n",
      "2                                           1                       0  ...   \n",
      "3                                           0                       0  ...   \n",
      "4                                           0                       0  ...   \n",
      "...                                       ...                     ...  ...   \n",
      "4995                                        0                       0  ...   \n",
      "4996                                        0                       0  ...   \n",
      "4997                                        0                       0  ...   \n",
      "4998                                        0                       0  ...   \n",
      "4999                                        0                       0  ...   \n",
      "\n",
      "      Company public response_Company believes the complaint provided an opportunity to answer consumer's questions  \\\n",
      "0                                                     0                                                               \n",
      "1                                                     0                                                               \n",
      "2                                                     0                                                               \n",
      "3                                                     0                                                               \n",
      "4                                                     0                                                               \n",
      "...                                                 ...                                                               \n",
      "4995                                                  0                                                               \n",
      "4996                                                  0                                                               \n",
      "4997                                                  0                                                               \n",
      "4998                                                  0                                                               \n",
      "4999                                                  0                                                               \n",
      "\n",
      "      Company public response_Company can't verify or dispute the facts in the complaint  \\\n",
      "0                                                     0                                    \n",
      "1                                                     0                                    \n",
      "2                                                     0                                    \n",
      "3                                                     0                                    \n",
      "4                                                     0                                    \n",
      "...                                                 ...                                    \n",
      "4995                                                  0                                    \n",
      "4996                                                  0                                    \n",
      "4997                                                  0                                    \n",
      "4998                                                  0                                    \n",
      "4999                                                  0                                    \n",
      "\n",
      "      Company public response_Company chooses not to provide a public response  \\\n",
      "0                                                     0                          \n",
      "1                                                     0                          \n",
      "2                                                     0                          \n",
      "3                                                     0                          \n",
      "4                                                     0                          \n",
      "...                                                 ...                          \n",
      "4995                                                  0                          \n",
      "4996                                                  0                          \n",
      "4997                                                  0                          \n",
      "4998                                                  0                          \n",
      "4999                                                  0                          \n",
      "\n",
      "      Company public response_Company disputes the facts presented in the complaint  \\\n",
      "0                                                     0                               \n",
      "1                                                     0                               \n",
      "2                                                     0                               \n",
      "3                                                     0                               \n",
      "4                                                     0                               \n",
      "...                                                 ...                               \n",
      "4995                                                  0                               \n",
      "4996                                                  0                               \n",
      "4997                                                  0                               \n",
      "4998                                                  0                               \n",
      "4999                                                  0                               \n",
      "\n",
      "      Company public response_Company has responded to the consumer and the CFPB and chooses not to provide a public response  \\\n",
      "0                                                     1                                                                         \n",
      "1                                                     1                                                                         \n",
      "2                                                     1                                                                         \n",
      "3                                                     1                                                                         \n",
      "4                                                     1                                                                         \n",
      "...                                                 ...                                                                         \n",
      "4995                                                  0                                                                         \n",
      "4996                                                  1                                                                         \n",
      "4997                                                  1                                                                         \n",
      "4998                                                  1                                                                         \n",
      "4999                                                  1                                                                         \n",
      "\n",
      "      Company response to consumer_Closed  \\\n",
      "0                                       0   \n",
      "1                                       0   \n",
      "2                                       0   \n",
      "3                                       0   \n",
      "4                                       0   \n",
      "...                                   ...   \n",
      "4995                                    0   \n",
      "4996                                    0   \n",
      "4997                                    0   \n",
      "4998                                    0   \n",
      "4999                                    0   \n",
      "\n",
      "      Company response to consumer_Closed with explanation  \\\n",
      "0                                                     1      \n",
      "1                                                     0      \n",
      "2                                                     1      \n",
      "3                                                     0      \n",
      "4                                                     1      \n",
      "...                                                 ...      \n",
      "4995                                                  1      \n",
      "4996                                                  0      \n",
      "4997                                                  0      \n",
      "4998                                                  1      \n",
      "4999                                                  1      \n",
      "\n",
      "      Company response to consumer_Closed with monetary relief  \\\n",
      "0                                                     0          \n",
      "1                                                     0          \n",
      "2                                                     0          \n",
      "3                                                     1          \n",
      "4                                                     0          \n",
      "...                                                 ...          \n",
      "4995                                                  0          \n",
      "4996                                                  0          \n",
      "4997                                                  0          \n",
      "4998                                                  0          \n",
      "4999                                                  0          \n",
      "\n",
      "      Company response to consumer_Closed with non-monetary relief  Speedy  \n",
      "0                                                     0                  1  \n",
      "1                                                     1                  0  \n",
      "2                                                     0                  0  \n",
      "3                                                     0                  1  \n",
      "4                                                     0                  1  \n",
      "...                                                 ...                ...  \n",
      "4995                                                  0                  0  \n",
      "4996                                                  1                  1  \n",
      "4997                                                  1                  0  \n",
      "4998                                                  0                  0  \n",
      "4999                                                  0                  1  \n",
      "\n",
      "[5000 rows x 143 columns]\n"
     ]
    }
   ],
   "source": [
    "print(df_response_time_encoded)"
   ]
  },
  {
   "cell_type": "code",
   "execution_count": 115,
   "metadata": {},
   "outputs": [],
   "source": [
    "X = df_response_time_encoded.drop(columns=['Business Days', 'Speedy'])  # Drop unnecessary columns\n",
    "y = df_response_time_encoded['Speedy']  # Our target variable\n"
   ]
  },
  {
   "cell_type": "code",
   "execution_count": 116,
   "metadata": {},
   "outputs": [],
   "source": [
    "from sklearn.model_selection import train_test_split\n",
    "\n",
    "X_train, X_test, y_train, y_test = train_test_split(X, y, test_size=0.3, random_state=42, stratify=y)"
   ]
  },
  {
   "cell_type": "code",
   "execution_count": 117,
   "metadata": {},
   "outputs": [],
   "source": [
    "from sklearn.ensemble import GradientBoostingClassifier\n",
    "\n",
    "# Initialize and train the model\n",
    "gb_clf = GradientBoostingClassifier(n_estimators=100, learning_rate=0.1, max_depth=3, random_state=42)\n",
    "gb_clf.fit(X_train, y_train)\n",
    "\n",
    "# Predict on the test set\n",
    "y_pred = gb_clf.predict(X_test)"
   ]
  },
  {
   "cell_type": "code",
   "execution_count": 118,
   "metadata": {},
   "outputs": [
    {
     "name": "stdout",
     "output_type": "stream",
     "text": [
      "Accuracy: 0.7333333333333333\n",
      "\n",
      "Classification Report:\n",
      "               precision    recall  f1-score   support\n",
      "\n",
      "           0       0.77      0.78      0.78       887\n",
      "           1       0.68      0.66      0.67       613\n",
      "\n",
      "    accuracy                           0.73      1500\n",
      "   macro avg       0.72      0.72      0.72      1500\n",
      "weighted avg       0.73      0.73      0.73      1500\n",
      "\n",
      "\n",
      "Confusion Matrix:\n",
      " [[694 193]\n",
      " [207 406]]\n"
     ]
    }
   ],
   "source": [
    "from sklearn.metrics import accuracy_score, classification_report, confusion_matrix\n",
    "\n",
    "# Accuracy\n",
    "print(\"Accuracy:\", accuracy_score(y_test, y_pred))\n",
    "\n",
    "# Classification report\n",
    "print(\"\\nClassification Report:\\n\", classification_report(y_test, y_pred))\n",
    "\n",
    "# Confusion Matrix\n",
    "print(\"\\nConfusion Matrix:\\n\", confusion_matrix(y_test, y_pred))"
   ]
  },
  {
   "cell_type": "code",
   "execution_count": null,
   "metadata": {},
   "outputs": [],
   "source": []
  },
  {
   "cell_type": "code",
   "execution_count": null,
   "metadata": {},
   "outputs": [],
   "source": []
  }
 ],
 "metadata": {
  "kernelspec": {
   "display_name": "Python 3",
   "language": "python",
   "name": "python3"
  },
  "language_info": {
   "codemirror_mode": {
    "name": "ipython",
    "version": 3
   },
   "file_extension": ".py",
   "mimetype": "text/x-python",
   "name": "python",
   "nbconvert_exporter": "python",
   "pygments_lexer": "ipython3",
   "version": "3.12.3"
  }
 },
 "nbformat": 4,
 "nbformat_minor": 2
}
