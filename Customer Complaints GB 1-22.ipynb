{
 "cells": [
  {
   "cell_type": "code",
   "execution_count": 43,
   "metadata": {},
   "outputs": [],
   "source": [
    "import pandas as pd\n",
    "from sklearn.model_selection import train_test_split\n",
    "from sklearn.model_selection import train_test_split, GridSearchCV\n",
    "from sklearn.ensemble import GradientBoostingClassifier\n",
    "from sklearn.metrics import classification_report, accuracy_score"
   ]
  },
  {
   "cell_type": "code",
   "execution_count": 44,
   "metadata": {},
   "outputs": [],
   "source": [
    "df = pd.read_csv(r'C:\\Users\\masha\\Downloads\\balanced_complaints.csv')"
   ]
  },
  {
   "cell_type": "code",
   "execution_count": 45,
   "metadata": {},
   "outputs": [],
   "source": [
    "df_no_text = df.drop(columns=['Consumer complaint narrative'])"
   ]
  },
  {
   "cell_type": "code",
   "execution_count": 46,
   "metadata": {},
   "outputs": [
    {
     "name": "stdout",
     "output_type": "stream",
     "text": [
      "     Date received                                            Product  \\\n",
      "0        3/25/2016                                    Debt collection   \n",
      "1         5/8/2015                                    Debt collection   \n",
      "2        1/21/2016                                    Debt collection   \n",
      "3         5/1/2015                                    Debt collection   \n",
      "4        9/26/2015                                        Credit card   \n",
      "...            ...                                                ...   \n",
      "7319     2/17/2018          Payday loan, title loan, or personal loan   \n",
      "7320      1/5/2017                                    Debt collection   \n",
      "7321    12/30/2015                                      Consumer Loan   \n",
      "7322    10/15/2018                                    Debt collection   \n",
      "7323     6/22/2023  Credit reporting, credit repair services, or o...   \n",
      "\n",
      "                                           Issue  \\\n",
      "0             False statements or representation   \n",
      "1          Cont'd attempts collect debt not owed   \n",
      "2                          Communication tactics   \n",
      "3          Cont'd attempts collect debt not owed   \n",
      "4                           Credit determination   \n",
      "...                                          ...   \n",
      "7319  Charged fees or interest you didn't expect   \n",
      "7320       Cont'd attempts collect debt not owed   \n",
      "7321         Problems when you are unable to pay   \n",
      "7322             Written notification about debt   \n",
      "7323        Incorrect information on your report   \n",
      "\n",
      "                                Company public response Date sent to company  \\\n",
      "0     Company believes it acted appropriately as aut...            3/26/2016   \n",
      "1     Company can't verify or dispute the facts in t...            5/11/2015   \n",
      "2     Company can't verify or dispute the facts in t...            1/21/2016   \n",
      "3     Company believes it acted appropriately as aut...             5/1/2015   \n",
      "4      Company chooses not to provide a public response            9/29/2015   \n",
      "...                                                 ...                  ...   \n",
      "7319  Company believes it acted appropriately as aut...            2/17/2018   \n",
      "7320  Company disputes the facts presented in the co...            2/10/2017   \n",
      "7321   Company chooses not to provide a public response           12/30/2015   \n",
      "7322  Company believes complaint caused principally ...           10/15/2018   \n",
      "7323  Company disputes the facts presented in the co...            6/22/2023   \n",
      "\n",
      "         Company response to consumer Timely response?  \n",
      "0             Closed with explanation               No  \n",
      "1             Closed with explanation               No  \n",
      "2             Closed with explanation              Yes  \n",
      "3     Closed with non-monetary relief              Yes  \n",
      "4         Closed with monetary relief              Yes  \n",
      "...                               ...              ...  \n",
      "7319          Closed with explanation               No  \n",
      "7320  Closed with non-monetary relief              Yes  \n",
      "7321          Closed with explanation              Yes  \n",
      "7322          Closed with explanation               No  \n",
      "7323          Closed with explanation              Yes  \n",
      "\n",
      "[7324 rows x 7 columns]\n"
     ]
    }
   ],
   "source": [
    "print(df_no_text)"
   ]
  },
  {
   "cell_type": "code",
   "execution_count": 47,
   "metadata": {},
   "outputs": [
    {
     "name": "stdout",
     "output_type": "stream",
     "text": [
      "7324\n"
     ]
    }
   ],
   "source": [
    "print(len(df_no_text))"
   ]
  },
  {
   "cell_type": "code",
   "execution_count": 48,
   "metadata": {},
   "outputs": [
    {
     "name": "stdout",
     "output_type": "stream",
     "text": [
      "19\n"
     ]
    }
   ],
   "source": [
    "product_counts = df['Product'].value_counts().nunique()\n",
    "print(product_counts)"
   ]
  },
  {
   "cell_type": "code",
   "execution_count": 49,
   "metadata": {},
   "outputs": [
    {
     "name": "stdout",
     "output_type": "stream",
     "text": [
      "64\n"
     ]
    }
   ],
   "source": [
    "issue_counts = df['Issue'].value_counts().nunique()\n",
    "print(issue_counts)"
   ]
  },
  {
   "cell_type": "code",
   "execution_count": 50,
   "metadata": {},
   "outputs": [
    {
     "name": "stdout",
     "output_type": "stream",
     "text": [
      "11\n"
     ]
    }
   ],
   "source": [
    "public_response_counts = df['Company public response'].value_counts().nunique()\n",
    "print(public_response_counts)"
   ]
  },
  {
   "cell_type": "code",
   "execution_count": 51,
   "metadata": {},
   "outputs": [
    {
     "name": "stdout",
     "output_type": "stream",
     "text": [
      "4\n"
     ]
    }
   ],
   "source": [
    "consumer_response_counts = df['Company response to consumer'].value_counts().nunique()\n",
    "print(consumer_response_counts)"
   ]
  },
  {
   "cell_type": "code",
   "execution_count": 52,
   "metadata": {},
   "outputs": [],
   "source": [
    "from workalendar.usa import UnitedStates\n",
    "from datetime import datetime\n"
   ]
  },
  {
   "cell_type": "code",
   "execution_count": 53,
   "metadata": {},
   "outputs": [],
   "source": [
    "# Initialize the calendar for the United States\n",
    "cal = UnitedStates()"
   ]
  },
  {
   "cell_type": "code",
   "execution_count": 57,
   "metadata": {},
   "outputs": [
    {
     "name": "stdout",
     "output_type": "stream",
     "text": [
      "     Date received                                            Product  \\\n",
      "0       2016-03-25                                    Debt collection   \n",
      "1       2015-05-08                                    Debt collection   \n",
      "2       2016-01-21                                    Debt collection   \n",
      "3       2015-05-01                                    Debt collection   \n",
      "4       2015-09-26                                        Credit card   \n",
      "...            ...                                                ...   \n",
      "7319    2018-02-17          Payday loan, title loan, or personal loan   \n",
      "7320    2017-01-05                                    Debt collection   \n",
      "7321    2015-12-30                                      Consumer Loan   \n",
      "7322    2018-10-15                                    Debt collection   \n",
      "7323    2023-06-22  Credit reporting, credit repair services, or o...   \n",
      "\n",
      "                                           Issue  \\\n",
      "0             False statements or representation   \n",
      "1          Cont'd attempts collect debt not owed   \n",
      "2                          Communication tactics   \n",
      "3          Cont'd attempts collect debt not owed   \n",
      "4                           Credit determination   \n",
      "...                                          ...   \n",
      "7319  Charged fees or interest you didn't expect   \n",
      "7320       Cont'd attempts collect debt not owed   \n",
      "7321         Problems when you are unable to pay   \n",
      "7322             Written notification about debt   \n",
      "7323        Incorrect information on your report   \n",
      "\n",
      "                           Consumer complaint narrative  \\\n",
      "0     Debt amounts are not accurate when attempting ...   \n",
      "1     Focus Receivables Management, XXXX, GA XXXX Ph...   \n",
      "2     My mother, my sister, and I have received mult...   \n",
      "3     I started to receive correspondence from Natio...   \n",
      "4                         XXXX ruined my credit rating.   \n",
      "...                                                 ...   \n",
      "7319  In XX/XX/XXXX, i received a loan from GreenSky...   \n",
      "7320  For the last 3 months or so, I have been recei...   \n",
      "7321  I am a co-signer on a car from several years a...   \n",
      "7322  Spoke with this company at the beginning of ye...   \n",
      "7323  I settled this account with XXXX XXXX XXXX XXX...   \n",
      "\n",
      "                                Company public response Date sent to company  \\\n",
      "0     Company believes it acted appropriately as aut...           2016-03-26   \n",
      "1     Company can't verify or dispute the facts in t...           2015-05-11   \n",
      "2     Company can't verify or dispute the facts in t...           2016-01-21   \n",
      "3     Company believes it acted appropriately as aut...           2015-05-01   \n",
      "4      Company chooses not to provide a public response           2015-09-29   \n",
      "...                                                 ...                  ...   \n",
      "7319  Company believes it acted appropriately as aut...           2018-02-17   \n",
      "7320  Company disputes the facts presented in the co...           2017-02-10   \n",
      "7321   Company chooses not to provide a public response           2015-12-30   \n",
      "7322  Company believes complaint caused principally ...           2018-10-15   \n",
      "7323  Company disputes the facts presented in the co...           2023-06-22   \n",
      "\n",
      "         Company response to consumer Timely response?  Business_Days  \\\n",
      "0             Closed with explanation               No              0   \n",
      "1             Closed with explanation               No              1   \n",
      "2             Closed with explanation              Yes              0   \n",
      "3     Closed with non-monetary relief              Yes              0   \n",
      "4         Closed with monetary relief              Yes              2   \n",
      "...                               ...              ...            ...   \n",
      "7319          Closed with explanation               No              0   \n",
      "7320  Closed with non-monetary relief              Yes             25   \n",
      "7321          Closed with explanation              Yes              0   \n",
      "7322          Closed with explanation               No              0   \n",
      "7323          Closed with explanation              Yes              0   \n",
      "\n",
      "      Business Days  \n",
      "0                 0  \n",
      "1                 1  \n",
      "2                 0  \n",
      "3                 0  \n",
      "4                 2  \n",
      "...             ...  \n",
      "7319              0  \n",
      "7320             25  \n",
      "7321              0  \n",
      "7322              0  \n",
      "7323              0  \n",
      "\n",
      "[7324 rows x 10 columns]\n"
     ]
    }
   ],
   "source": [
    "df['Date received'] = pd.to_datetime(df['Date received'])\n",
    "df['Date sent to company'] = pd.to_datetime(df['Date sent to company'])\n",
    "\n",
    "# Function to calculate business days\n",
    "def calculate_business_days(row):\n",
    "    return cal.get_working_days_delta(row['Date received'].date(), row['Date sent to company'].date())\n",
    "\n",
    "# Apply the function to each row and create a new column\n",
    "df[\"Business Days\"] = df.apply(calculate_business_days, axis=1)\n",
    "\n",
    "print(df)\n"
   ]
  },
  {
   "cell_type": "code",
   "execution_count": 66,
   "metadata": {},
   "outputs": [
    {
     "name": "stdout",
     "output_type": "stream",
     "text": [
      "Number of rows with 0 business days: 5854\n",
      "Number of rows with 1 business days: 246\n",
      "Number of rows with 2 business days: 225\n",
      "Number of rows with 3 business days: 197\n",
      "Number of rows with 4 business days: 113\n",
      "Number of rows with 5 business days: 70\n",
      "Number of rows with 6 business days: 75\n",
      "Number of rows with 7 business days: 30\n",
      "Number of rows with 8 business days: 35\n",
      "Number of rows with 9 business days: 43\n",
      "Number of rows with 10 business days: 31\n",
      "Number of rows with 11 business days: 37\n",
      "Number of rows with 12 business days: 33\n",
      "Number of rows with 13 business days: 37\n",
      "Number of rows with 14 business days: 22\n",
      "Number of rows with 15 business days: 17\n",
      "Number of rows with 16 business days: 29\n",
      "Number of rows with 17 business days: 7\n",
      "Number of rows with 18 business days: 18\n",
      "Number of rows with 19 business days: 4\n",
      "Number of rows with 20 business days: 11\n"
     ]
    }
   ],
   "source": [
    "for i in range(21):  # Loop from 0 to 20\n",
    "    count = len(df[df['Business_Days'] == i])\n",
    "    print(f\"Number of rows with {i} business days: {count}\")\n",
    "\n"
   ]
  },
  {
   "cell_type": "code",
   "execution_count": 59,
   "metadata": {},
   "outputs": [
    {
     "name": "stdout",
     "output_type": "stream",
     "text": [
      "count    7324.000000\n",
      "mean        1.905926\n",
      "std         7.598650\n",
      "min         0.000000\n",
      "25%         0.000000\n",
      "50%         0.000000\n",
      "75%         0.000000\n",
      "max       171.000000\n",
      "Name: Business Days, dtype: float64\n"
     ]
    }
   ],
   "source": [
    "print(df['Business Days'].describe())"
   ]
  },
  {
   "cell_type": "code",
   "execution_count": 60,
   "metadata": {},
   "outputs": [
    {
     "data": {
      "image/png": "[encoded data removed]",
      "text/plain": [
       "<Figure size 1000x600 with 1 Axes>"
      ]
     },
     "metadata": {},
     "output_type": "display_data"
    }
   ],
   "source": [
    "import matplotlib.pyplot as plt\n",
    "import seaborn as sns\n",
    "\n",
    "# Visualize the distribution of 'Business Days'\n",
    "plt.figure(figsize=(10, 6))\n",
    "sns.boxplot(x=df['Business Days'])\n",
    "plt.title('Boxplot of Business Days')\n",
    "plt.show()"
   ]
  },
  {
   "cell_type": "code",
   "execution_count": 67,
   "metadata": {},
   "outputs": [
    {
     "name": "stdout",
     "output_type": "stream",
     "text": [
      "0.0\n",
      "0.0\n",
      "0.0\n",
      "0.0\n",
      "0.0\n"
     ]
    }
   ],
   "source": [
    "# Remove outliers, decide how we're handling outliers\n",
    "Q1 = df['Business Days'].quantile(0.25)\n",
    "Q3 = df['Business Days'].quantile(0.75)\n",
    "\n",
    "IQR = Q3 - Q1  # Corrected calculation for IQR\n",
    "\n",
    "print(Q1)\n",
    "print(Q3)\n",
    "print(IQR)\n",
    "\n",
    "lower_bound = Q1 - 1.5 * IQR\n",
    "upper_bound = Q3 + 1.5 * IQR\n",
    "\n",
    "# Filter the data to remove outliers\n",
    "df_clean = df[(df['Business Days'] >= lower_bound) & (df['Business Days'] <= upper_bound)]\n",
    "\n",
    "# Check the resulting statistics\n",
    "print(df_clean['Business Days'].mean())\n",
    "print(df_clean['Business Days'].std())"
   ]
  },
  {
   "cell_type": "markdown",
   "metadata": {},
   "source": [
    "Current method of removing outliers leaves only 0s, so this in invalid, need to come up with a better way to remove outliers."
   ]
  },
  {
   "cell_type": "code",
   "execution_count": 39,
   "metadata": {},
   "outputs": [
    {
     "name": "stdout",
     "output_type": "stream",
     "text": [
      "     Date received Date sent to company  Business Days Timely response?\n",
      "0        3/25/2016            3/26/2016              1               No\n",
      "1         5/8/2015            5/11/2015              2               No\n",
      "2        1/21/2016            1/21/2016              1              Yes\n",
      "3         5/1/2015             5/1/2015              1              Yes\n",
      "4        9/26/2015            9/29/2015              2              Yes\n",
      "...            ...                  ...            ...              ...\n",
      "7319     2/17/2018            2/17/2018              0               No\n",
      "7320      1/5/2017            2/10/2017             26              Yes\n",
      "7321    12/30/2015           12/30/2015              1              Yes\n",
      "7322    10/15/2018           10/15/2018              1               No\n",
      "7323     6/22/2023            6/22/2023              1              Yes\n",
      "\n",
      "[7324 rows x 4 columns]\n"
     ]
    }
   ],
   "source": [
    "print(df[['Date received', 'Date sent to company', 'Business Days', 'Timely response?']])"
   ]
  },
  {
   "cell_type": "code",
   "execution_count": 38,
   "metadata": {},
   "outputs": [
    {
     "name": "stdout",
     "output_type": "stream",
     "text": [
      "     Date received Date sent to company  Business Days Timely response?\n",
      "0        3/25/2016            3/26/2016              1               No\n",
      "2        1/21/2016            1/21/2016              1              Yes\n",
      "3         5/1/2015             5/1/2015              1              Yes\n",
      "5        1/16/2020            1/16/2020              1              Yes\n",
      "8         2/1/2023             2/1/2023              1              Yes\n",
      "...            ...                  ...            ...              ...\n",
      "7317     2/26/2021            2/26/2021              1               No\n",
      "7318     5/23/2017            5/23/2017              1               No\n",
      "7321    12/30/2015           12/30/2015              1              Yes\n",
      "7322    10/15/2018           10/15/2018              1               No\n",
      "7323     6/22/2023            6/22/2023              1              Yes\n",
      "\n",
      "[4822 rows x 4 columns]\n"
     ]
    }
   ],
   "source": [
    "print(df_clean[['Date received', 'Date sent to company', 'Business Days', 'Timely response?']])"
   ]
  },
  {
   "cell_type": "code",
   "execution_count": 50,
   "metadata": {},
   "outputs": [],
   "source": [
    "df_cleaned = df[(df['Business Days'] >= lower_bound) & (df['Business Days'] <= upper_bound)]\n"
   ]
  },
  {
   "cell_type": "code",
   "execution_count": 51,
   "metadata": {},
   "outputs": [
    {
     "data": {
      "text/plain": [
       "4822"
      ]
     },
     "execution_count": 51,
     "metadata": {},
     "output_type": "execute_result"
    }
   ],
   "source": [
    "len(df_cleaned)"
   ]
  },
  {
   "cell_type": "code",
   "execution_count": 30,
   "metadata": {},
   "outputs": [
    {
     "ename": "NameError",
     "evalue": "name 'df_cleaned' is not defined",
     "output_type": "error",
     "traceback": [
      "\u001b[1;31m---------------------------------------------------------------------------\u001b[0m",
      "\u001b[1;31mNameError\u001b[0m                                 Traceback (most recent call last)",
      "Cell \u001b[1;32mIn[30], line 1\u001b[0m\n\u001b[1;32m----> 1\u001b[0m \u001b[38;5;28mprint\u001b[39m(\u001b[43mdf_cleaned\u001b[49m)\n",
      "\u001b[1;31mNameError\u001b[0m: name 'df_cleaned' is not defined"
     ]
    }
   ],
   "source": [
    "print(df_cleaned)"
   ]
  },
  {
   "cell_type": "code",
   "execution_count": 62,
   "metadata": {},
   "outputs": [
    {
     "name": "stdout",
     "output_type": "stream",
     "text": [
      "3662\n",
      "3662\n"
     ]
    }
   ],
   "source": [
    "no_df = df[(df['Timely response?'] == 'No')]\n",
    "print(len(no_df))\n",
    "\n",
    "yes_df = df[(df['Timely response?'] == 'Yes')]\n",
    "print(len(yes_df))\n"
   ]
  },
  {
   "cell_type": "code",
   "execution_count": 63,
   "metadata": {},
   "outputs": [
    {
     "name": "stdout",
     "output_type": "stream",
     "text": [
      "Statistics for 'Yes':\n",
      "count    3662.000000\n",
      "mean        2.524031\n",
      "std         6.696597\n",
      "min         0.000000\n",
      "25%         1.000000\n",
      "50%         1.000000\n",
      "75%         1.000000\n",
      "max       131.000000\n",
      "Name: Business Days, dtype: float64\n",
      "\n",
      "Statistics for 'No':\n",
      "count    3662.000000\n",
      "mean        3.015565\n",
      "std         8.682070\n",
      "min         0.000000\n",
      "25%         1.000000\n",
      "50%         1.000000\n",
      "75%         1.000000\n",
      "max       179.000000\n",
      "Name: Business Days, dtype: float64\n"
     ]
    }
   ],
   "source": [
    "print(\"Statistics for 'Yes':\")\n",
    "print(yes_df['Business Days'].describe())\n",
    "print(\"\\nStatistics for 'No':\")\n",
    "print(no_df['Business Days'].describe())"
   ]
  },
  {
   "cell_type": "code",
   "execution_count": 64,
   "metadata": {},
   "outputs": [
    {
     "name": "stdout",
     "output_type": "stream",
     "text": [
      "2320\n",
      "2502\n"
     ]
    }
   ],
   "source": [
    "no_df = df_cleaned[(df_cleaned['Timely response?'] == 'No')]\n",
    "print(len(no_df))\n",
    "\n",
    "yes_df = df_cleaned[(df_cleaned['Timely response?'] == 'Yes')]\n",
    "print(len(yes_df))\n"
   ]
  },
  {
   "cell_type": "markdown",
   "metadata": {},
   "source": [
    "Number of samples went down from 7324 to 4822 after outliers were removed, resulting in 2320 'Nos' and 2502 'Yes'"
   ]
  },
  {
   "cell_type": "code",
   "execution_count": 65,
   "metadata": {},
   "outputs": [],
   "source": [
    "import pandas as pd\n",
    "import matplotlib.pyplot as plt\n",
    "import seaborn as sns\n"
   ]
  },
  {
   "cell_type": "code",
   "execution_count": 66,
   "metadata": {},
   "outputs": [
    {
     "name": "stdout",
     "output_type": "stream",
     "text": [
      "Statistics for 'Yes':\n",
      "count    2502.0\n",
      "mean        1.0\n",
      "std         0.0\n",
      "min         1.0\n",
      "25%         1.0\n",
      "50%         1.0\n",
      "75%         1.0\n",
      "max         1.0\n",
      "Name: Business Days, dtype: float64\n",
      "\n",
      "Statistics for 'No':\n",
      "count    2320.0\n",
      "mean        1.0\n",
      "std         0.0\n",
      "min         1.0\n",
      "25%         1.0\n",
      "50%         1.0\n",
      "75%         1.0\n",
      "max         1.0\n",
      "Name: Business Days, dtype: float64\n"
     ]
    }
   ],
   "source": [
    "print(\"Statistics for 'Yes':\")\n",
    "print(yes_df['Business Days'].describe())\n",
    "print(\"\\nStatistics for 'No':\")\n",
    "print(no_df['Business Days'].describe())"
   ]
  },
  {
   "cell_type": "code",
   "execution_count": 68,
   "metadata": {},
   "outputs": [
    {
     "name": "stdout",
     "output_type": "stream",
     "text": [
      "     Date received                                            Product  \\\n",
      "0        3/25/2016                                    Debt collection   \n",
      "2        1/21/2016                                    Debt collection   \n",
      "3         5/1/2015                                    Debt collection   \n",
      "5        1/16/2020          Payday loan, title loan, or personal loan   \n",
      "8         2/1/2023                        Credit card or prepaid card   \n",
      "...            ...                                                ...   \n",
      "7317     2/26/2021                                    Debt collection   \n",
      "7318     5/23/2017                                    Debt collection   \n",
      "7321    12/30/2015                                      Consumer Loan   \n",
      "7322    10/15/2018                                    Debt collection   \n",
      "7323     6/22/2023  Credit reporting, credit repair services, or o...   \n",
      "\n",
      "                                           Issue  \\\n",
      "0             False statements or representation   \n",
      "2                          Communication tactics   \n",
      "3          Cont'd attempts collect debt not owed   \n",
      "5     Charged fees or interest you didn't expect   \n",
      "8                               Fees or interest   \n",
      "...                                          ...   \n",
      "7317           Attempts to collect debt not owed   \n",
      "7318                       Communication tactics   \n",
      "7321         Problems when you are unable to pay   \n",
      "7322             Written notification about debt   \n",
      "7323        Incorrect information on your report   \n",
      "\n",
      "                           Consumer complaint narrative  \\\n",
      "0     Debt amounts are not accurate when attempting ...   \n",
      "2     My mother, my sister, and I have received mult...   \n",
      "3     I started to receive correspondence from Natio...   \n",
      "5     I contacted Greensky on XXXX XX/XX/XXXX and pr...   \n",
      "8     I got a lady today stating that my credit card...   \n",
      "...                                                 ...   \n",
      "7317  I never had a record with these authorities/le...   \n",
      "7318  Nationwide Debt Management Solutions , LLC  ( ...   \n",
      "7321  I am a co-signer on a car from several years a...   \n",
      "7322  Spoke with this company at the beginning of ye...   \n",
      "7323  I settled this account with XXXX XXXX XXXX XXX...   \n",
      "\n",
      "                                Company public response Date sent to company  \\\n",
      "0     Company believes it acted appropriately as aut...            3/26/2016   \n",
      "2     Company can't verify or dispute the facts in t...            1/21/2016   \n",
      "3     Company believes it acted appropriately as aut...             5/1/2015   \n",
      "5     Company believes it acted appropriately as aut...            1/16/2020   \n",
      "8     Company believes complaint caused principally ...             2/1/2023   \n",
      "...                                                 ...                  ...   \n",
      "7317  Company believes it acted appropriately as aut...            2/26/2021   \n",
      "7318  Company disputes the facts presented in the co...            5/23/2017   \n",
      "7321   Company chooses not to provide a public response           12/30/2015   \n",
      "7322  Company believes complaint caused principally ...           10/15/2018   \n",
      "7323  Company disputes the facts presented in the co...            6/22/2023   \n",
      "\n",
      "         Company response to consumer Timely response?  Business Days  \n",
      "0             Closed with explanation               No              1  \n",
      "2             Closed with explanation              Yes              1  \n",
      "3     Closed with non-monetary relief              Yes              1  \n",
      "5         Closed with monetary relief              Yes              1  \n",
      "8             Closed with explanation              Yes              1  \n",
      "...                               ...              ...            ...  \n",
      "7317          Closed with explanation               No              1  \n",
      "7318          Closed with explanation               No              1  \n",
      "7321          Closed with explanation              Yes              1  \n",
      "7322          Closed with explanation               No              1  \n",
      "7323          Closed with explanation              Yes              1  \n",
      "\n",
      "[4822 rows x 9 columns]\n"
     ]
    }
   ],
   "source": [
    "print(df_cleaned)"
   ]
  },
  {
   "cell_type": "code",
   "execution_count": 27,
   "metadata": {},
   "outputs": [
    {
     "name": "stdout",
     "output_type": "stream",
     "text": [
      "Note: you may need to restart the kernel to use updated packages.Collecting dython\n",
      "  Downloading dython-0.7.9-py3-none-any.whl.metadata (2.9 kB)\n",
      "Requirement already satisfied: numpy>=1.23.0 in c:\\users\\masha\\appdata\\local\\programs\\python\\python312\\lib\\site-packages (from dython) (1.26.4)\n",
      "Requirement already satisfied: pandas>=1.4.2 in c:\\users\\masha\\appdata\\local\\programs\\python\\python312\\lib\\site-packages (from dython) (2.2.2)\n",
      "Requirement already satisfied: seaborn>=0.12.0 in c:\\users\\masha\\appdata\\local\\programs\\python\\python312\\lib\\site-packages (from dython) (0.13.2)\n",
      "Requirement already satisfied: scipy>=1.7.1 in c:\\users\\masha\\appdata\\local\\programs\\python\\python312\\lib\\site-packages (from dython) (1.12.0)\n",
      "Requirement already satisfied: matplotlib>=3.6.0 in c:\\users\\masha\\appdata\\local\\programs\\python\\python312\\lib\\site-packages (from dython) (3.8.4)\n",
      "Requirement already satisfied: scikit-learn>=0.24.2 in c:\\users\\masha\\appdata\\local\\programs\\python\\python312\\lib\\site-packages (from dython) (1.4.2)\n",
      "Requirement already satisfied: psutil>=5.9.1 in c:\\users\\masha\\appdata\\roaming\\python\\python312\\site-packages (from dython) (5.9.8)\n",
      "Requirement already satisfied: setuptools in c:\\users\\masha\\appdata\\local\\programs\\python\\python312\\lib\\site-packages (from dython) (75.3.0)\n",
      "Requirement already satisfied: contourpy>=1.0.1 in c:\\users\\masha\\appdata\\local\\programs\\python\\python312\\lib\\site-packages (from matplotlib>=3.6.0->dython) (1.2.1)\n",
      "Requirement already satisfied: cycler>=0.10 in c:\\users\\masha\\appdata\\local\\programs\\python\\python312\\lib\\site-packages (from matplotlib>=3.6.0->dython) (0.12.1)\n",
      "Requirement already satisfied: fonttools>=4.22.0 in c:\\users\\masha\\appdata\\local\\programs\\python\\python312\\lib\\site-packages (from matplotlib>=3.6.0->dython) (4.51.0)\n",
      "Requirement already satisfied: kiwisolver>=1.3.1 in c:\\users\\masha\\appdata\\local\\programs\\python\\python312\\lib\\site-packages (from matplotlib>=3.6.0->dython) (1.4.5)\n",
      "Requirement already satisfied: packaging>=20.0 in c:\\users\\masha\\appdata\\roaming\\python\\python312\\site-packages (from matplotlib>=3.6.0->dython) (24.0)\n",
      "Requirement already satisfied: pillow>=8 in c:\\users\\masha\\appdata\\local\\programs\\python\\python312\\lib\\site-packages (from matplotlib>=3.6.0->dython) (10.3.0)\n",
      "Requirement already satisfied: pyparsing>=2.3.1 in c:\\users\\masha\\appdata\\local\\programs\\python\\python312\\lib\\site-packages (from matplotlib>=3.6.0->dython) (3.1.2)\n",
      "Requirement already satisfied: python-dateutil>=2.7 in c:\\users\\masha\\appdata\\local\\programs\\python\\python312\\lib\\site-packages (from matplotlib>=3.6.0->dython) (2.9.0.post0)\n",
      "Requirement already satisfied: pytz>=2020.1 in c:\\users\\masha\\appdata\\local\\programs\\python\\python312\\lib\\site-packages (from pandas>=1.4.2->dython) (2024.1)\n",
      "Requirement already satisfied: tzdata>=2022.7 in c:\\users\\masha\\appdata\\local\\programs\\python\\python312\\lib\\site-packages (from pandas>=1.4.2->dython) (2024.1)\n",
      "Requirement already satisfied: joblib>=1.2.0 in c:\\users\\masha\\appdata\\local\\programs\\python\\python312\\lib\\site-packages (from scikit-learn>=0.24.2->dython) (1.4.0)\n",
      "Requirement already satisfied: threadpoolctl>=2.0.0 in c:\\users\\masha\\appdata\\local\\programs\\python\\python312\\lib\\site-packages (from scikit-learn>=0.24.2->dython) (3.4.0)\n",
      "Requirement already satisfied: six>=1.5 in c:\\users\\masha\\appdata\\local\\programs\\python\\python312\\lib\\site-packages (from python-dateutil>=2.7->matplotlib>=3.6.0->dython) (1.16.0)\n",
      "Downloading dython-0.7.9-py3-none-any.whl (26 kB)\n",
      "Installing collected packages: dython\n",
      "Successfully installed dython-0.7.9\n",
      "\n"
     ]
    },
    {
     "name": "stderr",
     "output_type": "stream",
     "text": [
      "\n",
      "[notice] A new release of pip is available: 24.0 -> 24.3.1\n",
      "[notice] To update, run: python.exe -m pip install --upgrade pip\n"
     ]
    }
   ],
   "source": [
    "pip install dython --upgrade\n"
   ]
  },
  {
   "cell_type": "code",
   "execution_count": 28,
   "metadata": {},
   "outputs": [],
   "source": [
    "from dython.nominal import associations\n"
   ]
  },
  {
   "cell_type": "code",
   "execution_count": 32,
   "metadata": {},
   "outputs": [],
   "source": [
    "df_timely_response = df_cleaned[['Product','Issue', 'Company public response', 'Company response to consumer', 'Timely response?']]"
   ]
  },
  {
   "cell_type": "code",
   "execution_count": 33,
   "metadata": {},
   "outputs": [
    {
     "data": {
      "image/png": "[encoded data removed]",
      "text/plain": [
       "<Figure size 750x750 with 2 Axes>"
      ]
     },
     "metadata": {},
     "output_type": "display_data"
    },
    {
     "data": {
      "text/plain": [
       "{'corr':                                Product     Issue  Company public response  \\\n",
       " Product                       1.000000  0.875589                 0.287263   \n",
       " Issue                         0.875589  1.000000                 0.307815   \n",
       " Company public response       0.287263  0.307815                 1.000000   \n",
       " Company response to consumer  0.368476  0.445384                 0.250384   \n",
       " Timely response?              0.297269  0.306395                 0.424108   \n",
       " \n",
       "                               Company response to consumer  Timely response?  \n",
       " Product                                           0.368476          0.297269  \n",
       " Issue                                             0.445384          0.306395  \n",
       " Company public response                           0.250384          0.424108  \n",
       " Company response to consumer                      1.000000          0.233874  \n",
       " Timely response?                                  0.233874          1.000000  ,\n",
       " 'ax': <Axes: >}"
      ]
     },
     "execution_count": 33,
     "metadata": {},
     "output_type": "execute_result"
    }
   ],
   "source": [
    "associations(df_timely_response)\n"
   ]
  },
  {
   "cell_type": "code",
   "execution_count": 47,
   "metadata": {},
   "outputs": [
    {
     "data": {
      "text/plain": [
       "'\\nProduct #need to actually remove Product because Issues are unique \\nIssue\\nCompany public response\\nCompany response to consumer\\n'"
      ]
     },
     "execution_count": 47,
     "metadata": {},
     "output_type": "execute_result"
    }
   ],
   "source": [
    "# One-hot encode categorical columns\n",
    "\"\"\"\n",
    "Product #need to actually remove Product because Issues are unique \n",
    "Issue\n",
    "Company public response\n",
    "Company response to consumer\n",
    "\"\"\"\n"
   ]
  },
  {
   "cell_type": "code",
   "execution_count": null,
   "metadata": {},
   "outputs": [],
   "source": [
    "from scipy.stats import chi2_contingency\n",
    "\n",
    "\n",
    "def cramers_v(confusion_matrix):\n",
    "    chi2 = chi2_contingency(confusion_matrix)[0]\n",
    "    n = confusion_matrix.sum()\n",
    "    return np.sqrt(chi2 / (n * (min(confusion_matrix.shape) - 1)))\n",
    "\n",
    "\n",
    "confusion_matrix = pd.crosstab(df['cat_var1'], df['cat_var2'])\n",
    "cramers_v_value = cramers_v(confusion_matrix)\n",
    "print(\"Cramér's V:\", cramers_v_value)\n"
   ]
  },
  {
   "cell_type": "code",
   "execution_count": 49,
   "metadata": {},
   "outputs": [
    {
     "name": "stdout",
     "output_type": "stream",
     "text": [
      "                                           Issue  \\\n",
      "0             False statements or representation   \n",
      "2                          Communication tactics   \n",
      "3          Cont'd attempts collect debt not owed   \n",
      "5     Charged fees or interest you didn't expect   \n",
      "8                               Fees or interest   \n",
      "...                                          ...   \n",
      "7317           Attempts to collect debt not owed   \n",
      "7318                       Communication tactics   \n",
      "7321         Problems when you are unable to pay   \n",
      "7322             Written notification about debt   \n",
      "7323        Incorrect information on your report   \n",
      "\n",
      "                                Company public response  \\\n",
      "0     Company believes it acted appropriately as aut...   \n",
      "2     Company can't verify or dispute the facts in t...   \n",
      "3     Company believes it acted appropriately as aut...   \n",
      "5     Company believes it acted appropriately as aut...   \n",
      "8     Company believes complaint caused principally ...   \n",
      "...                                                 ...   \n",
      "7317  Company believes it acted appropriately as aut...   \n",
      "7318  Company disputes the facts presented in the co...   \n",
      "7321   Company chooses not to provide a public response   \n",
      "7322  Company believes complaint caused principally ...   \n",
      "7323  Company disputes the facts presented in the co...   \n",
      "\n",
      "         Company response to consumer Timely response?  \n",
      "0             Closed with explanation               No  \n",
      "2             Closed with explanation              Yes  \n",
      "3     Closed with non-monetary relief              Yes  \n",
      "5         Closed with monetary relief              Yes  \n",
      "8             Closed with explanation              Yes  \n",
      "...                               ...              ...  \n",
      "7317          Closed with explanation               No  \n",
      "7318          Closed with explanation               No  \n",
      "7321          Closed with explanation              Yes  \n",
      "7322          Closed with explanation               No  \n",
      "7323          Closed with explanation              Yes  \n",
      "\n",
      "[4822 rows x 4 columns]\n"
     ]
    }
   ],
   "source": [
    "print(df_timely_response)"
   ]
  },
  {
   "cell_type": "code",
   "execution_count": 50,
   "metadata": {},
   "outputs": [
    {
     "name": "stderr",
     "output_type": "stream",
     "text": [
      "C:\\Users\\masha\\AppData\\Local\\Temp\\ipykernel_22120\\3403067569.py:1: SettingWithCopyWarning: \n",
      "A value is trying to be set on a copy of a slice from a DataFrame.\n",
      "Try using .loc[row_indexer,col_indexer] = value instead\n",
      "\n",
      "See the caveats in the documentation: https://pandas.pydata.org/pandas-docs/stable/user_guide/indexing.html#returning-a-view-versus-a-copy\n",
      "  df_timely_response['Timely response?'] = df_timely_response['Timely response?'].map({'Yes': 1, 'No': 0})\n"
     ]
    }
   ],
   "source": [
    "df_timely_response['Timely response?'] = df_timely_response['Timely response?'].map({'Yes': 1, 'No': 0})\n"
   ]
  },
  {
   "cell_type": "code",
   "execution_count": 51,
   "metadata": {},
   "outputs": [],
   "source": [
    "columns_to_encode = ['Issue', 'Company public response', 'Company response to consumer']"
   ]
  },
  {
   "cell_type": "code",
   "execution_count": 52,
   "metadata": {},
   "outputs": [],
   "source": [
    "df_timely_response_encoded = pd.get_dummies(df_timely_response, columns=columns_to_encode)"
   ]
  },
  {
   "cell_type": "code",
   "execution_count": 53,
   "metadata": {},
   "outputs": [
    {
     "name": "stdout",
     "output_type": "stream",
     "text": [
      "   Timely response?  Issue_APR or interest rate  \\\n",
      "0                 0                       False   \n",
      "2                 1                       False   \n",
      "3                 1                       False   \n",
      "5                 1                       False   \n",
      "8                 1                       False   \n",
      "\n",
      "   Issue_Account opening, closing, or management  Issue_Advertising  \\\n",
      "0                                          False              False   \n",
      "2                                          False              False   \n",
      "3                                          False              False   \n",
      "5                                          False              False   \n",
      "8                                          False              False   \n",
      "\n",
      "   Issue_Advertising and marketing  \\\n",
      "0                            False   \n",
      "2                            False   \n",
      "3                            False   \n",
      "5                            False   \n",
      "8                            False   \n",
      "\n",
      "   Issue_Advertising and marketing, including promotional offers  \\\n",
      "0                                              False               \n",
      "2                                              False               \n",
      "3                                              False               \n",
      "5                                              False               \n",
      "8                                              False               \n",
      "\n",
      "   Issue_Application, originator, mortgage broker  \\\n",
      "0                                           False   \n",
      "2                                           False   \n",
      "3                                           False   \n",
      "5                                           False   \n",
      "8                                           False   \n",
      "\n",
      "   Issue_Applying for a mortgage or refinancing an existing mortgage  \\\n",
      "0                                              False                   \n",
      "2                                              False                   \n",
      "3                                              False                   \n",
      "5                                              False                   \n",
      "8                                              False                   \n",
      "\n",
      "   Issue_Arbitration  Issue_Attempts to collect debt not owed  ...  \\\n",
      "0              False                                    False  ...   \n",
      "2              False                                    False  ...   \n",
      "3              False                                    False  ...   \n",
      "5              False                                    False  ...   \n",
      "8              False                                    False  ...   \n",
      "\n",
      "   Company public response_Company believes the complaint is the result of a misunderstanding  \\\n",
      "0                                              False                                            \n",
      "2                                              False                                            \n",
      "3                                              False                                            \n",
      "5                                              False                                            \n",
      "8                                              False                                            \n",
      "\n",
      "   Company public response_Company believes the complaint provided an opportunity to answer consumer's questions  \\\n",
      "0                                              False                                                               \n",
      "2                                              False                                                               \n",
      "3                                              False                                                               \n",
      "5                                              False                                                               \n",
      "8                                              False                                                               \n",
      "\n",
      "   Company public response_Company can't verify or dispute the facts in the complaint  \\\n",
      "0                                              False                                    \n",
      "2                                               True                                    \n",
      "3                                              False                                    \n",
      "5                                              False                                    \n",
      "8                                              False                                    \n",
      "\n",
      "   Company public response_Company chooses not to provide a public response  \\\n",
      "0                                              False                          \n",
      "2                                              False                          \n",
      "3                                              False                          \n",
      "5                                              False                          \n",
      "8                                              False                          \n",
      "\n",
      "   Company public response_Company disputes the facts presented in the complaint  \\\n",
      "0                                              False                               \n",
      "2                                              False                               \n",
      "3                                              False                               \n",
      "5                                              False                               \n",
      "8                                              False                               \n",
      "\n",
      "   Company public response_Company has responded to the consumer and the CFPB and chooses not to provide a public response  \\\n",
      "0                                              False                                                                         \n",
      "2                                              False                                                                         \n",
      "3                                              False                                                                         \n",
      "5                                              False                                                                         \n",
      "8                                              False                                                                         \n",
      "\n",
      "   Company response to consumer_Closed  \\\n",
      "0                                False   \n",
      "2                                False   \n",
      "3                                False   \n",
      "5                                False   \n",
      "8                                False   \n",
      "\n",
      "   Company response to consumer_Closed with explanation  \\\n",
      "0                                               True      \n",
      "2                                               True      \n",
      "3                                              False      \n",
      "5                                              False      \n",
      "8                                               True      \n",
      "\n",
      "   Company response to consumer_Closed with monetary relief  \\\n",
      "0                                              False          \n",
      "2                                              False          \n",
      "3                                              False          \n",
      "5                                               True          \n",
      "8                                              False          \n",
      "\n",
      "   Company response to consumer_Closed with non-monetary relief  \n",
      "0                                              False             \n",
      "2                                              False             \n",
      "3                                               True             \n",
      "5                                              False             \n",
      "8                                              False             \n",
      "\n",
      "[5 rows x 146 columns]\n"
     ]
    }
   ],
   "source": [
    "print(df_timely_response_encoded.head())"
   ]
  },
  {
   "cell_type": "code",
   "execution_count": 54,
   "metadata": {},
   "outputs": [],
   "source": [
    "# Define features (X) and target (y)\n",
    "X = df_timely_response_encoded.drop(['Timely response?'], axis=1)\n",
    "y = df_timely_response_encoded['Timely response?']\n",
    "\n",
    "# Split the data into train, test and validation sets\n",
    "X_train, X_temp, y_train, y_temp = train_test_split(X, y, test_size=0.4, random_state=42)\n",
    "\n",
    "X_val, X_test, y_val, y_test = train_test_split(X_temp, y_temp, test_size=0.5, random_state=42)\n"
   ]
  },
  {
   "cell_type": "code",
   "execution_count": 55,
   "metadata": {},
   "outputs": [],
   "source": [
    "# Initialize Gradient Boosting Classifier\n",
    "gb = GradientBoostingClassifier(random_state=42)\n",
    "\n",
    "# Define hyperparameters to tune\n",
    "param_grid = {\n",
    "    'n_estimators': [50, 100, 150],\n",
    "    'learning_rate': [0.01, 0.1, 0.2],\n",
    "    'max_depth': [3, 4, 5],\n",
    "    'min_samples_split': [2, 5, 10]\n",
    "}"
   ]
  },
  {
   "cell_type": "code",
   "execution_count": 56,
   "metadata": {},
   "outputs": [],
   "source": [
    "# Set up GridSearchCV\n",
    "grid_search = GridSearchCV(estimator=gb, param_grid=param_grid, cv=3, scoring='accuracy', verbose=2, n_jobs=-1)\n"
   ]
  },
  {
   "cell_type": "code",
   "execution_count": 57,
   "metadata": {},
   "outputs": [
    {
     "name": "stdout",
     "output_type": "stream",
     "text": [
      "Tuning hyperparameters with GridSearchCV...\n",
      "Fitting 3 folds for each of 81 candidates, totalling 243 fits\n"
     ]
    },
    {
     "data": {
      "text/html": [
       "<style>#sk-container-id-2 {\n",
       "  /* Definition of color scheme common for light and dark mode */\n",
       "  --sklearn-color-text: black;\n",
       "  --sklearn-color-line: gray;\n",
       "  /* Definition of color scheme for unfitted estimators */\n",
       "  --sklearn-color-unfitted-level-0: #fff5e6;\n",
       "  --sklearn-color-unfitted-level-1: #f6e4d2;\n",
       "  --sklearn-color-unfitted-level-2: #ffe0b3;\n",
       "  --sklearn-color-unfitted-level-3: chocolate;\n",
       "  /* Definition of color scheme for fitted estimators */\n",
       "  --sklearn-color-fitted-level-0: #f0f8ff;\n",
       "  --sklearn-color-fitted-level-1: #d4ebff;\n",
       "  --sklearn-color-fitted-level-2: #b3dbfd;\n",
       "  --sklearn-color-fitted-level-3: cornflowerblue;\n",
       "\n",
       "  /* Specific color for light theme */\n",
       "  --sklearn-color-text-on-default-background: var(--sg-text-color, var(--theme-code-foreground, var(--jp-content-font-color1, black)));\n",
       "  --sklearn-color-background: var(--sg-background-color, var(--theme-background, var(--jp-layout-color0, white)));\n",
       "  --sklearn-color-border-box: var(--sg-text-color, var(--theme-code-foreground, var(--jp-content-font-color1, black)));\n",
       "  --sklearn-color-icon: #696969;\n",
       "\n",
       "  @media (prefers-color-scheme: dark) {\n",
       "    /* Redefinition of color scheme for dark theme */\n",
       "    --sklearn-color-text-on-default-background: var(--sg-text-color, var(--theme-code-foreground, var(--jp-content-font-color1, white)));\n",
       "    --sklearn-color-background: var(--sg-background-color, var(--theme-background, var(--jp-layout-color0, #111)));\n",
       "    --sklearn-color-border-box: var(--sg-text-color, var(--theme-code-foreground, var(--jp-content-font-color1, white)));\n",
       "    --sklearn-color-icon: #878787;\n",
       "  }\n",
       "}\n",
       "\n",
       "#sk-container-id-2 {\n",
       "  color: var(--sklearn-color-text);\n",
       "}\n",
       "\n",
       "#sk-container-id-2 pre {\n",
       "  padding: 0;\n",
       "}\n",
       "\n",
       "#sk-container-id-2 input.sk-hidden--visually {\n",
       "  border: 0;\n",
       "  clip: rect(1px 1px 1px 1px);\n",
       "  clip: rect(1px, 1px, 1px, 1px);\n",
       "  height: 1px;\n",
       "  margin: -1px;\n",
       "  overflow: hidden;\n",
       "  padding: 0;\n",
       "  position: absolute;\n",
       "  width: 1px;\n",
       "}\n",
       "\n",
       "#sk-container-id-2 div.sk-dashed-wrapped {\n",
       "  border: 1px dashed var(--sklearn-color-line);\n",
       "  margin: 0 0.4em 0.5em 0.4em;\n",
       "  box-sizing: border-box;\n",
       "  padding-bottom: 0.4em;\n",
       "  background-color: var(--sklearn-color-background);\n",
       "}\n",
       "\n",
       "#sk-container-id-2 div.sk-container {\n",
       "  /* jupyter's `normalize.less` sets `[hidden] { display: none; }`\n",
       "     but bootstrap.min.css set `[hidden] { display: none !important; }`\n",
       "     so we also need the `!important` here to be able to override the\n",
       "     default hidden behavior on the sphinx rendered scikit-learn.org.\n",
       "     See: https://github.com/scikit-learn/scikit-learn/issues/21755 */\n",
       "  display: inline-block !important;\n",
       "  position: relative;\n",
       "}\n",
       "\n",
       "#sk-container-id-2 div.sk-text-repr-fallback {\n",
       "  display: none;\n",
       "}\n",
       "\n",
       "div.sk-parallel-item,\n",
       "div.sk-serial,\n",
       "div.sk-item {\n",
       "  /* draw centered vertical line to link estimators */\n",
       "  background-image: linear-gradient(var(--sklearn-color-text-on-default-background), var(--sklearn-color-text-on-default-background));\n",
       "  background-size: 2px 100%;\n",
       "  background-repeat: no-repeat;\n",
       "  background-position: center center;\n",
       "}\n",
       "\n",
       "/* Parallel-specific style estimator block */\n",
       "\n",
       "#sk-container-id-2 div.sk-parallel-item::after {\n",
       "  content: \"\";\n",
       "  width: 100%;\n",
       "  border-bottom: 2px solid var(--sklearn-color-text-on-default-background);\n",
       "  flex-grow: 1;\n",
       "}\n",
       "\n",
       "#sk-container-id-2 div.sk-parallel {\n",
       "  display: flex;\n",
       "  align-items: stretch;\n",
       "  justify-content: center;\n",
       "  background-color: var(--sklearn-color-background);\n",
       "  position: relative;\n",
       "}\n",
       "\n",
       "#sk-container-id-2 div.sk-parallel-item {\n",
       "  display: flex;\n",
       "  flex-direction: column;\n",
       "}\n",
       "\n",
       "#sk-container-id-2 div.sk-parallel-item:first-child::after {\n",
       "  align-self: flex-end;\n",
       "  width: 50%;\n",
       "}\n",
       "\n",
       "#sk-container-id-2 div.sk-parallel-item:last-child::after {\n",
       "  align-self: flex-start;\n",
       "  width: 50%;\n",
       "}\n",
       "\n",
       "#sk-container-id-2 div.sk-parallel-item:only-child::after {\n",
       "  width: 0;\n",
       "}\n",
       "\n",
       "/* Serial-specific style estimator block */\n",
       "\n",
       "#sk-container-id-2 div.sk-serial {\n",
       "  display: flex;\n",
       "  flex-direction: column;\n",
       "  align-items: center;\n",
       "  background-color: var(--sklearn-color-background);\n",
       "  padding-right: 1em;\n",
       "  padding-left: 1em;\n",
       "}\n",
       "\n",
       "\n",
       "/* Toggleable style: style used for estimator/Pipeline/ColumnTransformer box that is\n",
       "clickable and can be expanded/collapsed.\n",
       "- Pipeline and ColumnTransformer use this feature and define the default style\n",
       "- Estimators will overwrite some part of the style using the `sk-estimator` class\n",
       "*/\n",
       "\n",
       "/* Pipeline and ColumnTransformer style (default) */\n",
       "\n",
       "#sk-container-id-2 div.sk-toggleable {\n",
       "  /* Default theme specific background. It is overwritten whether we have a\n",
       "  specific estimator or a Pipeline/ColumnTransformer */\n",
       "  background-color: var(--sklearn-color-background);\n",
       "}\n",
       "\n",
       "/* Toggleable label */\n",
       "#sk-container-id-2 label.sk-toggleable__label {\n",
       "  cursor: pointer;\n",
       "  display: block;\n",
       "  width: 100%;\n",
       "  margin-bottom: 0;\n",
       "  padding: 0.5em;\n",
       "  box-sizing: border-box;\n",
       "  text-align: center;\n",
       "}\n",
       "\n",
       "#sk-container-id-2 label.sk-toggleable__label-arrow:before {\n",
       "  /* Arrow on the left of the label */\n",
       "  content: \"▸\";\n",
       "  float: left;\n",
       "  margin-right: 0.25em;\n",
       "  color: var(--sklearn-color-icon);\n",
       "}\n",
       "\n",
       "#sk-container-id-2 label.sk-toggleable__label-arrow:hover:before {\n",
       "  color: var(--sklearn-color-text);\n",
       "}\n",
       "\n",
       "/* Toggleable content - dropdown */\n",
       "\n",
       "#sk-container-id-2 div.sk-toggleable__content {\n",
       "  max-height: 0;\n",
       "  max-width: 0;\n",
       "  overflow: hidden;\n",
       "  text-align: left;\n",
       "  /* unfitted */\n",
       "  background-color: var(--sklearn-color-unfitted-level-0);\n",
       "}\n",
       "\n",
       "#sk-container-id-2 div.sk-toggleable__content.fitted {\n",
       "  /* fitted */\n",
       "  background-color: var(--sklearn-color-fitted-level-0);\n",
       "}\n",
       "\n",
       "#sk-container-id-2 div.sk-toggleable__content pre {\n",
       "  margin: 0.2em;\n",
       "  border-radius: 0.25em;\n",
       "  color: var(--sklearn-color-text);\n",
       "  /* unfitted */\n",
       "  background-color: var(--sklearn-color-unfitted-level-0);\n",
       "}\n",
       "\n",
       "#sk-container-id-2 div.sk-toggleable__content.fitted pre {\n",
       "  /* unfitted */\n",
       "  background-color: var(--sklearn-color-fitted-level-0);\n",
       "}\n",
       "\n",
       "#sk-container-id-2 input.sk-toggleable__control:checked~div.sk-toggleable__content {\n",
       "  /* Expand drop-down */\n",
       "  max-height: 200px;\n",
       "  max-width: 100%;\n",
       "  overflow: auto;\n",
       "}\n",
       "\n",
       "#sk-container-id-2 input.sk-toggleable__control:checked~label.sk-toggleable__label-arrow:before {\n",
       "  content: \"▾\";\n",
       "}\n",
       "\n",
       "/* Pipeline/ColumnTransformer-specific style */\n",
       "\n",
       "#sk-container-id-2 div.sk-label input.sk-toggleable__control:checked~label.sk-toggleable__label {\n",
       "  color: var(--sklearn-color-text);\n",
       "  background-color: var(--sklearn-color-unfitted-level-2);\n",
       "}\n",
       "\n",
       "#sk-container-id-2 div.sk-label.fitted input.sk-toggleable__control:checked~label.sk-toggleable__label {\n",
       "  background-color: var(--sklearn-color-fitted-level-2);\n",
       "}\n",
       "\n",
       "/* Estimator-specific style */\n",
       "\n",
       "/* Colorize estimator box */\n",
       "#sk-container-id-2 div.sk-estimator input.sk-toggleable__control:checked~label.sk-toggleable__label {\n",
       "  /* unfitted */\n",
       "  background-color: var(--sklearn-color-unfitted-level-2);\n",
       "}\n",
       "\n",
       "#sk-container-id-2 div.sk-estimator.fitted input.sk-toggleable__control:checked~label.sk-toggleable__label {\n",
       "  /* fitted */\n",
       "  background-color: var(--sklearn-color-fitted-level-2);\n",
       "}\n",
       "\n",
       "#sk-container-id-2 div.sk-label label.sk-toggleable__label,\n",
       "#sk-container-id-2 div.sk-label label {\n",
       "  /* The background is the default theme color */\n",
       "  color: var(--sklearn-color-text-on-default-background);\n",
       "}\n",
       "\n",
       "/* On hover, darken the color of the background */\n",
       "#sk-container-id-2 div.sk-label:hover label.sk-toggleable__label {\n",
       "  color: var(--sklearn-color-text);\n",
       "  background-color: var(--sklearn-color-unfitted-level-2);\n",
       "}\n",
       "\n",
       "/* Label box, darken color on hover, fitted */\n",
       "#sk-container-id-2 div.sk-label.fitted:hover label.sk-toggleable__label.fitted {\n",
       "  color: var(--sklearn-color-text);\n",
       "  background-color: var(--sklearn-color-fitted-level-2);\n",
       "}\n",
       "\n",
       "/* Estimator label */\n",
       "\n",
       "#sk-container-id-2 div.sk-label label {\n",
       "  font-family: monospace;\n",
       "  font-weight: bold;\n",
       "  display: inline-block;\n",
       "  line-height: 1.2em;\n",
       "}\n",
       "\n",
       "#sk-container-id-2 div.sk-label-container {\n",
       "  text-align: center;\n",
       "}\n",
       "\n",
       "/* Estimator-specific */\n",
       "#sk-container-id-2 div.sk-estimator {\n",
       "  font-family: monospace;\n",
       "  border: 1px dotted var(--sklearn-color-border-box);\n",
       "  border-radius: 0.25em;\n",
       "  box-sizing: border-box;\n",
       "  margin-bottom: 0.5em;\n",
       "  /* unfitted */\n",
       "  background-color: var(--sklearn-color-unfitted-level-0);\n",
       "}\n",
       "\n",
       "#sk-container-id-2 div.sk-estimator.fitted {\n",
       "  /* fitted */\n",
       "  background-color: var(--sklearn-color-fitted-level-0);\n",
       "}\n",
       "\n",
       "/* on hover */\n",
       "#sk-container-id-2 div.sk-estimator:hover {\n",
       "  /* unfitted */\n",
       "  background-color: var(--sklearn-color-unfitted-level-2);\n",
       "}\n",
       "\n",
       "#sk-container-id-2 div.sk-estimator.fitted:hover {\n",
       "  /* fitted */\n",
       "  background-color: var(--sklearn-color-fitted-level-2);\n",
       "}\n",
       "\n",
       "/* Specification for estimator info (e.g. \"i\" and \"?\") */\n",
       "\n",
       "/* Common style for \"i\" and \"?\" */\n",
       "\n",
       ".sk-estimator-doc-link,\n",
       "a:link.sk-estimator-doc-link,\n",
       "a:visited.sk-estimator-doc-link {\n",
       "  float: right;\n",
       "  font-size: smaller;\n",
       "  line-height: 1em;\n",
       "  font-family: monospace;\n",
       "  background-color: var(--sklearn-color-background);\n",
       "  border-radius: 1em;\n",
       "  height: 1em;\n",
       "  width: 1em;\n",
       "  text-decoration: none !important;\n",
       "  margin-left: 1ex;\n",
       "  /* unfitted */\n",
       "  border: var(--sklearn-color-unfitted-level-1) 1pt solid;\n",
       "  color: var(--sklearn-color-unfitted-level-1);\n",
       "}\n",
       "\n",
       ".sk-estimator-doc-link.fitted,\n",
       "a:link.sk-estimator-doc-link.fitted,\n",
       "a:visited.sk-estimator-doc-link.fitted {\n",
       "  /* fitted */\n",
       "  border: var(--sklearn-color-fitted-level-1) 1pt solid;\n",
       "  color: var(--sklearn-color-fitted-level-1);\n",
       "}\n",
       "\n",
       "/* On hover */\n",
       "div.sk-estimator:hover .sk-estimator-doc-link:hover,\n",
       ".sk-estimator-doc-link:hover,\n",
       "div.sk-label-container:hover .sk-estimator-doc-link:hover,\n",
       ".sk-estimator-doc-link:hover {\n",
       "  /* unfitted */\n",
       "  background-color: var(--sklearn-color-unfitted-level-3);\n",
       "  color: var(--sklearn-color-background);\n",
       "  text-decoration: none;\n",
       "}\n",
       "\n",
       "div.sk-estimator.fitted:hover .sk-estimator-doc-link.fitted:hover,\n",
       ".sk-estimator-doc-link.fitted:hover,\n",
       "div.sk-label-container:hover .sk-estimator-doc-link.fitted:hover,\n",
       ".sk-estimator-doc-link.fitted:hover {\n",
       "  /* fitted */\n",
       "  background-color: var(--sklearn-color-fitted-level-3);\n",
       "  color: var(--sklearn-color-background);\n",
       "  text-decoration: none;\n",
       "}\n",
       "\n",
       "/* Span, style for the box shown on hovering the info icon */\n",
       ".sk-estimator-doc-link span {\n",
       "  display: none;\n",
       "  z-index: 9999;\n",
       "  position: relative;\n",
       "  font-weight: normal;\n",
       "  right: .2ex;\n",
       "  padding: .5ex;\n",
       "  margin: .5ex;\n",
       "  width: min-content;\n",
       "  min-width: 20ex;\n",
       "  max-width: 50ex;\n",
       "  color: var(--sklearn-color-text);\n",
       "  box-shadow: 2pt 2pt 4pt #999;\n",
       "  /* unfitted */\n",
       "  background: var(--sklearn-color-unfitted-level-0);\n",
       "  border: .5pt solid var(--sklearn-color-unfitted-level-3);\n",
       "}\n",
       "\n",
       ".sk-estimator-doc-link.fitted span {\n",
       "  /* fitted */\n",
       "  background: var(--sklearn-color-fitted-level-0);\n",
       "  border: var(--sklearn-color-fitted-level-3);\n",
       "}\n",
       "\n",
       ".sk-estimator-doc-link:hover span {\n",
       "  display: block;\n",
       "}\n",
       "\n",
       "/* \"?\"-specific style due to the `<a>` HTML tag */\n",
       "\n",
       "#sk-container-id-2 a.estimator_doc_link {\n",
       "  float: right;\n",
       "  font-size: 1rem;\n",
       "  line-height: 1em;\n",
       "  font-family: monospace;\n",
       "  background-color: var(--sklearn-color-background);\n",
       "  border-radius: 1rem;\n",
       "  height: 1rem;\n",
       "  width: 1rem;\n",
       "  text-decoration: none;\n",
       "  /* unfitted */\n",
       "  color: var(--sklearn-color-unfitted-level-1);\n",
       "  border: var(--sklearn-color-unfitted-level-1) 1pt solid;\n",
       "}\n",
       "\n",
       "#sk-container-id-2 a.estimator_doc_link.fitted {\n",
       "  /* fitted */\n",
       "  border: var(--sklearn-color-fitted-level-1) 1pt solid;\n",
       "  color: var(--sklearn-color-fitted-level-1);\n",
       "}\n",
       "\n",
       "/* On hover */\n",
       "#sk-container-id-2 a.estimator_doc_link:hover {\n",
       "  /* unfitted */\n",
       "  background-color: var(--sklearn-color-unfitted-level-3);\n",
       "  color: var(--sklearn-color-background);\n",
       "  text-decoration: none;\n",
       "}\n",
       "\n",
       "#sk-container-id-2 a.estimator_doc_link.fitted:hover {\n",
       "  /* fitted */\n",
       "  background-color: var(--sklearn-color-fitted-level-3);\n",
       "}\n",
       "</style><div id=\"sk-container-id-2\" class=\"sk-top-container\"><div class=\"sk-text-repr-fallback\"><pre>GridSearchCV(cv=3, estimator=GradientBoostingClassifier(random_state=42),\n",
       "             n_jobs=-1,\n",
       "             param_grid={&#x27;learning_rate&#x27;: [0.01, 0.1, 0.2],\n",
       "                         &#x27;max_depth&#x27;: [3, 4, 5],\n",
       "                         &#x27;min_samples_split&#x27;: [2, 5, 10],\n",
       "                         &#x27;n_estimators&#x27;: [50, 100, 150]},\n",
       "             scoring=&#x27;accuracy&#x27;, verbose=2)</pre><b>In a Jupyter environment, please rerun this cell to show the HTML representation or trust the notebook. <br />On GitHub, the HTML representation is unable to render, please try loading this page with nbviewer.org.</b></div><div class=\"sk-container\" hidden><div class=\"sk-item sk-dashed-wrapped\"><div class=\"sk-label-container\"><div class=\"sk-label fitted sk-toggleable\"><input class=\"sk-toggleable__control sk-hidden--visually\" id=\"sk-estimator-id-4\" type=\"checkbox\" ><label for=\"sk-estimator-id-4\" class=\"sk-toggleable__label fitted sk-toggleable__label-arrow fitted\">&nbsp;&nbsp;GridSearchCV<a class=\"sk-estimator-doc-link fitted\" rel=\"noreferrer\" target=\"_blank\" href=\"https://scikit-learn.org/1.4/modules/generated/sklearn.model_selection.GridSearchCV.html\">?<span>Documentation for GridSearchCV</span></a><span class=\"sk-estimator-doc-link fitted\">i<span>Fitted</span></span></label><div class=\"sk-toggleable__content fitted\"><pre>GridSearchCV(cv=3, estimator=GradientBoostingClassifier(random_state=42),\n",
       "             n_jobs=-1,\n",
       "             param_grid={&#x27;learning_rate&#x27;: [0.01, 0.1, 0.2],\n",
       "                         &#x27;max_depth&#x27;: [3, 4, 5],\n",
       "                         &#x27;min_samples_split&#x27;: [2, 5, 10],\n",
       "                         &#x27;n_estimators&#x27;: [50, 100, 150]},\n",
       "             scoring=&#x27;accuracy&#x27;, verbose=2)</pre></div> </div></div><div class=\"sk-parallel\"><div class=\"sk-parallel-item\"><div class=\"sk-item\"><div class=\"sk-label-container\"><div class=\"sk-label fitted sk-toggleable\"><input class=\"sk-toggleable__control sk-hidden--visually\" id=\"sk-estimator-id-5\" type=\"checkbox\" ><label for=\"sk-estimator-id-5\" class=\"sk-toggleable__label fitted sk-toggleable__label-arrow fitted\">estimator: GradientBoostingClassifier</label><div class=\"sk-toggleable__content fitted\"><pre>GradientBoostingClassifier(random_state=42)</pre></div> </div></div><div class=\"sk-serial\"><div class=\"sk-item\"><div class=\"sk-estimator fitted sk-toggleable\"><input class=\"sk-toggleable__control sk-hidden--visually\" id=\"sk-estimator-id-6\" type=\"checkbox\" ><label for=\"sk-estimator-id-6\" class=\"sk-toggleable__label fitted sk-toggleable__label-arrow fitted\">&nbsp;GradientBoostingClassifier<a class=\"sk-estimator-doc-link fitted\" rel=\"noreferrer\" target=\"_blank\" href=\"https://scikit-learn.org/1.4/modules/generated/sklearn.ensemble.GradientBoostingClassifier.html\">?<span>Documentation for GradientBoostingClassifier</span></a></label><div class=\"sk-toggleable__content fitted\"><pre>GradientBoostingClassifier(random_state=42)</pre></div> </div></div></div></div></div></div></div></div></div>"
      ],
      "text/plain": [
       "GridSearchCV(cv=3, estimator=GradientBoostingClassifier(random_state=42),\n",
       "             n_jobs=-1,\n",
       "             param_grid={'learning_rate': [0.01, 0.1, 0.2],\n",
       "                         'max_depth': [3, 4, 5],\n",
       "                         'min_samples_split': [2, 5, 10],\n",
       "                         'n_estimators': [50, 100, 150]},\n",
       "             scoring='accuracy', verbose=2)"
      ]
     },
     "execution_count": 57,
     "metadata": {},
     "output_type": "execute_result"
    }
   ],
   "source": [
    "# Fit the model\n",
    "print(\"Tuning hyperparameters with GridSearchCV...\")\n",
    "grid_search.fit(X_train, y_train)"
   ]
  },
  {
   "cell_type": "code",
   "execution_count": 58,
   "metadata": {},
   "outputs": [
    {
     "name": "stdout",
     "output_type": "stream",
     "text": [
      "Best hyperparameters: {'learning_rate': 0.1, 'max_depth': 3, 'min_samples_split': 2, 'n_estimators': 100}\n"
     ]
    }
   ],
   "source": [
    "# Best parameters\n",
    "print(\"Best hyperparameters:\", grid_search.best_params_)"
   ]
  },
  {
   "cell_type": "code",
   "execution_count": 59,
   "metadata": {},
   "outputs": [],
   "source": [
    "# Evaluate on validation set\n",
    "best_model = grid_search.best_estimator_\n",
    "y_val_pred = best_model.predict(X_val)"
   ]
  },
  {
   "cell_type": "code",
   "execution_count": 60,
   "metadata": {},
   "outputs": [
    {
     "name": "stdout",
     "output_type": "stream",
     "text": [
      "Validation Accuracy: 0.758298755186722\n",
      "\n",
      "Classification Report:\n",
      "               precision    recall  f1-score   support\n",
      "\n",
      "           0       0.74      0.78      0.76       473\n",
      "           1       0.78      0.74      0.76       491\n",
      "\n",
      "    accuracy                           0.76       964\n",
      "   macro avg       0.76      0.76      0.76       964\n",
      "weighted avg       0.76      0.76      0.76       964\n",
      "\n"
     ]
    }
   ],
   "source": [
    "print(\"Validation Accuracy:\", accuracy_score(y_val, y_val_pred))\n",
    "print(\"\\nClassification Report:\\n\", classification_report(y_val, y_val_pred))"
   ]
  },
  {
   "cell_type": "code",
   "execution_count": 61,
   "metadata": {},
   "outputs": [
    {
     "name": "stdout",
     "output_type": "stream",
     "text": [
      "Test Accuracy: 0.7523316062176166\n",
      "\n",
      "Classification Report:\n",
      "               precision    recall  f1-score   support\n",
      "\n",
      "           0       0.72      0.79      0.76       467\n",
      "           1       0.79      0.71      0.75       498\n",
      "\n",
      "    accuracy                           0.75       965\n",
      "   macro avg       0.75      0.75      0.75       965\n",
      "weighted avg       0.76      0.75      0.75       965\n",
      "\n"
     ]
    }
   ],
   "source": [
    "# Evaluate on test set\n",
    "y_test_pred = best_model.predict(X_test)\n",
    "print(\"Test Accuracy:\", accuracy_score(y_test, y_test_pred))\n",
    "print(\"\\nClassification Report:\\n\", classification_report(y_test, y_test_pred))"
   ]
  },
  {
   "cell_type": "code",
   "execution_count": 62,
   "metadata": {},
   "outputs": [],
   "source": [
    "#repeat for predicting response time"
   ]
  }
 ],
 "metadata": {
  "kernelspec": {
   "display_name": "Python 3",
   "language": "python",
   "name": "python3"
  },
  "language_info": {
   "codemirror_mode": {
    "name": "ipython",
    "version": 3
   },
   "file_extension": ".py",
   "mimetype": "text/x-python",
   "name": "python",
   "nbconvert_exporter": "python",
   "pygments_lexer": "ipython3",
   "version": "3.12.3"
  }
 },
 "nbformat": 4,
 "nbformat_minor": 2
}
