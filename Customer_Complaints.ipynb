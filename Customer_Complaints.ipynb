{
  "nbformat": 4,
  "nbformat_minor": 0,
  "metadata": {
    "colab": {
      "provenance": [],
      "gpuType": "T4",
      "authorship_tag": "ABX9TyNSOpsWuxUJqWNRkopsSfd1",
      "include_colab_link": true
    },
    "kernelspec": {
      "name": "python3",
      "display_name": "Python 3"
    },
    "language_info": {
      "name": "python"
    },
    "accelerator": "GPU"
  },
  "cells": [
    {
      "cell_type": "markdown",
      "metadata": {
        "id": "view-in-github",
        "colab_type": "text"
      },
      "source": [
        "<a href=\"https://colab.research.google.com/github/mashaleo/NEEC/blob/main/Customer_Complaints.ipynb\" target=\"_parent\"><img src=\"https://colab.research.google.com/assets/colab-badge.svg\" alt=\"Open In Colab\"/></a>"
      ]
    },
    {
      "cell_type": "code",
      "execution_count": 1,
      "metadata": {
        "colab": {
          "base_uri": "https://localhost:8080/"
        },
        "id": "Q5GV--KLvgd3",
        "outputId": "535f504b-5389-462f-81c2-7cf83e8a1457"
      },
      "outputs": [
        {
          "output_type": "stream",
          "name": "stdout",
          "text": [
            "  Date received          Product                                  Issue  \\\n",
            "0    2016-03-25  Debt collection     False statements or representation   \n",
            "1    2015-05-08  Debt collection  Cont'd attempts collect debt not owed   \n",
            "2    2016-01-21  Debt collection                  Communication tactics   \n",
            "3    2015-05-01  Debt collection  Cont'd attempts collect debt not owed   \n",
            "4    2015-09-26      Credit card                   Credit determination   \n",
            "\n",
            "                             Company public response Date sent to company  \\\n",
            "0  Company believes it acted appropriately as aut...           2016-03-26   \n",
            "1  Company can't verify or dispute the facts in t...           2015-05-11   \n",
            "2  Company can't verify or dispute the facts in t...           2016-01-21   \n",
            "3  Company believes it acted appropriately as aut...           2015-05-01   \n",
            "4   Company chooses not to provide a public response           2015-09-29   \n",
            "\n",
            "      Company response to consumer Timely response?  \n",
            "0          Closed with explanation               No  \n",
            "1          Closed with explanation               No  \n",
            "2          Closed with explanation              Yes  \n",
            "3  Closed with non-monetary relief              Yes  \n",
            "4      Closed with monetary relief              Yes  \n"
          ]
        }
      ],
      "source": [
        "import pandas as pd\n",
        "df = pd.read_csv('balanced_complaints.csv')\n",
        "df_no_text = df.drop(columns=['Consumer complaint narrative'])\n",
        "print(df_no_text.head())"
      ]
    },
    {
      "cell_type": "code",
      "source": [
        "product_counts = df['Product'].value_counts().nunique()\n",
        "product_unique = df['Product'].unique()\n",
        "print(product_unique)\n",
        "print(product_counts)\n",
        "\n",
        "issue_counts = df['Issue'].value_counts().nunique()\n",
        "issue_unique = df['Issue'].unique()\n",
        "print(issue_unique)\n",
        "print(issue_counts)\n",
        "\n",
        "public_response_counts = df['Company public response'].value_counts().nunique()\n",
        "public_response_unique = df['Company public response'].unique()\n",
        "print(public_response_unique)\n",
        "print(public_response_counts)\n",
        "\n",
        "consumer_response_counts = df['Company response to consumer'].value_counts().nunique()\n",
        "consumer_response_unique = df['Company response to consumer'].unique()\n",
        "print(consumer_response_unique)\n",
        "print(consumer_response_counts)"
      ],
      "metadata": {
        "colab": {
          "base_uri": "https://localhost:8080/"
        },
        "id": "ZnI1_CmSwRyL",
        "outputId": "39bd4a9b-5a11-4648-d7cc-99db1ff2471f"
      },
      "execution_count": 10,
      "outputs": [
        {
          "output_type": "stream",
          "name": "stdout",
          "text": [
            "['Debt collection' 'Credit card'\n",
            " 'Payday loan, title loan, or personal loan' 'Mortgage'\n",
            " 'Credit card or prepaid card' 'Credit reporting'\n",
            " 'Checking or savings account' 'Vehicle loan or lease'\n",
            " 'Credit reporting, credit repair services, or other personal consumer reports'\n",
            " 'Consumer Loan' 'Money transfer, virtual currency, or money service'\n",
            " 'Bank account or service' 'Student loan' 'Money transfers' 'Payday loan'\n",
            " 'Credit reporting or other personal consumer reports'\n",
            " 'Other financial service' 'Prepaid card'\n",
            " 'Payday loan, title loan, personal loan, or advance loan'\n",
            " 'Debt or credit management']\n",
            "19\n",
            "['False statements or representation'\n",
            " \"Cont'd attempts collect debt not owed\" 'Communication tactics'\n",
            " 'Credit determination' \"Charged fees or interest you didn't expect\"\n",
            " 'Disclosure verification of debt'\n",
            " 'Loan servicing, payments, escrow account' 'Fees or interest'\n",
            " 'Settlement process and costs' 'Taking/threatening an illegal action'\n",
            " 'Written notification about debt' 'Trouble during payment process'\n",
            " 'Attempts to collect debt not owed' 'Improper contact or sharing of info'\n",
            " 'Improper use of my credit report' 'Opening an account'\n",
            " 'Managing the loan or lease' 'Incorrect information on your report'\n",
            " 'Taking out the loan or lease' 'Incorrect information on credit report'\n",
            " 'Improper use of your report'\n",
            " 'Unauthorized transactions or other transaction problem'\n",
            " 'Applying for a mortgage or refinancing an existing mortgage'\n",
            " 'Problem with a purchase shown on your statement'\n",
            " \"Problem with a credit reporting company's investigation into an existing problem\"\n",
            " 'Account opening, closing, or management'\n",
            " 'Threatened to contact someone or share information improperly'\n",
            " 'Billing disputes' 'Unable to get credit report/credit score'\n",
            " 'Managing an account' 'Application, originator, mortgage broker'\n",
            " 'Problem getting a card or closing an account'\n",
            " 'Took or threatened to take negative or legal action' 'Getting a loan'\n",
            " 'Credit decision / Underwriting' 'Dealing with your lender or servicer'\n",
            " 'Struggling to pay your loan' 'Deposits and withdrawals'\n",
            " 'Money was not available when promised'\n",
            " 'Wrong amount charged or received'\n",
            " 'Credit monitoring or identity theft protection services'\n",
            " 'Loan modification,collection,foreclosure'\n",
            " 'Dealing with my lender or servicer' 'Getting the loan'\n",
            " 'APR or interest rate' 'Closing on a mortgage'\n",
            " 'Unsolicited issuance of credit card' 'Closing/Cancelling account'\n",
            " 'Unexpected or other fees' 'Getting a credit card'\n",
            " 'Problems when you are unable to pay' 'Other transaction problem'\n",
            " 'Using a debit or ATM card' \"Can't contact lender\"\n",
            " 'Problems caused by my funds being low' 'Billing statement'\n",
            " 'Credit monitoring or identity protection' 'Cash advance fee'\n",
            " 'Problem with a purchase or transfer'\n",
            " \"Can't stop withdrawals from your bank account\"\n",
            " 'Struggling to pay mortgage' 'Closing an account'\n",
            " 'Getting a loan or lease'\n",
            " 'Problem with a lender or other company charging your account'\n",
            " 'Other features, terms, or problems' 'Delinquent account'\n",
            " 'Advertising and marketing, including promotional offers'\n",
            " 'Payment to acct not credited' 'Trouble using the card'\n",
            " 'Other service problem' 'Problem caused by your funds being low' 'Other'\n",
            " 'Overdraft, savings, or rewards features'\n",
            " 'Making/receiving payments, sending money' 'Fraud or scam' 'Fees'\n",
            " 'Unauthorized transactions/trans. issues' 'Rewards'\n",
            " 'Identity theft / Fraud / Embezzlement'\n",
            " 'Problem with the payoff process at the end of the loan'\n",
            " \"Can't repay my loan\" 'Shopping for a loan or lease' 'Disclosures'\n",
            " 'Excessive fees' 'Struggling to repay your loan'\n",
            " 'Unable to get your credit report or credit score' 'Balance transfer'\n",
            " 'Problem when making payments' \"Charged fees or interest I didn't expect\"\n",
            " 'Credit card protection / Debt protection' 'Issues with repayment'\n",
            " 'Problems at the end of the loan or lease' 'Transaction issue'\n",
            " 'Closing your account' \"Credit reporting company's investigation\"\n",
            " 'Advertising and marketing'\n",
            " \"Loan payment wasn't credited to your account\"\n",
            " \"Can't stop charges to bank account\"\n",
            " 'Problem with additional add-on products or services'\n",
            " \"Problem with a company's investigation into an existing problem\"\n",
            " 'Arbitration' 'Incorrect/missing disclosures or info'\n",
            " \"Received a loan I didn't apply for\" 'Confusing or missing disclosures'\n",
            " 'Managing, opening, or closing account'\n",
            " 'Problem with fraud alerts or security freezes'\n",
            " 'Electronic communications' \"Received a loan you didn't apply for\"\n",
            " 'Money was taken from your bank account on the wrong day or for the wrong amount'\n",
            " 'Credit line increase/decrease' 'Late fee'\n",
            " 'Confusing or misleading advertising or marketing'\n",
            " 'Trouble using your card' 'Customer service / Customer relations'\n",
            " 'Getting a line of credit' 'Vehicle was repossessed or sold the vehicle'\n",
            " 'Struggling to pay your bill'\n",
            " \"Problem with a company's investigation into an existing issue\"\n",
            " 'Customer service/Customer relations' 'Balance transfer fee'\n",
            " 'Advertising, marketing or disclosures' 'Repossession'\n",
            " 'Identity theft protection or other monitoring services' 'Other fee'\n",
            " 'Problem with customer service' 'Privacy' 'Payoff process'\n",
            " 'Other service issues'\n",
            " \"Was approved for a loan, but didn't receive the money\"\n",
            " \"Didn't provide services promised\" \"Can't contact lender or servicer\"\n",
            " 'Other transaction issues' 'Credit limit changed' 'Problem adding money'\n",
            " 'Advertising' 'Managing, opening, or closing your mobile wallet account'\n",
            " 'Overlimit fee' 'Lost or stolen check'\n",
            " 'Charged bank acct wrong day or amt' 'Bankruptcy']\n",
            "64\n",
            "['Company believes it acted appropriately as authorized by contract or law'\n",
            " \"Company can't verify or dispute the facts in the complaint\"\n",
            " 'Company chooses not to provide a public response'\n",
            " 'Company believes the complaint is the result of a misunderstanding'\n",
            " 'Company believes complaint caused principally by actions of third party outside the control or direction of the company'\n",
            " 'Company believes complaint is the result of an isolated error'\n",
            " 'Company disputes the facts presented in the complaint'\n",
            " 'Company believes complaint represents an opportunity for improvement to better serve consumers'\n",
            " 'Company has responded to the consumer and the CFPB and chooses not to provide a public response'\n",
            " \"Company believes the complaint provided an opportunity to answer consumer's questions\"\n",
            " 'Company believes complaint relates to a discontinued policy or procedure']\n",
            "11\n",
            "['Closed with explanation' 'Closed with non-monetary relief'\n",
            " 'Closed with monetary relief' 'Closed']\n",
            "4\n"
          ]
        }
      ]
    },
    {
      "cell_type": "code",
      "source": [
        "from pandas.tseries.holiday import USFederalHolidayCalendar\n",
        "cal = USFederalHolidayCalendar()\n",
        "holidays = cal.holidays(start=df['Date received'].min(), end=df['Date sent to company'].max())\n",
        "\n",
        "def calculate_business_days(row):\n",
        "    # Generate business days between the two dates\n",
        "    business_days = pd.bdate_range(row['Date received'], row['Date sent to company'])\n",
        "    # Exclude holidays\n",
        "    valid_business_days = business_days.difference(holidays)\n",
        "    return len(valid_business_days)\n",
        "df['Business Days'] = df.apply(calculate_business_days, axis=1)\n",
        "print(df.head())"
      ],
      "metadata": {
        "colab": {
          "base_uri": "https://localhost:8080/"
        },
        "id": "JKUDhaBJxeP3",
        "outputId": "1872a707-c226-4954-d34c-26497ca6005a"
      },
      "execution_count": 4,
      "outputs": [
        {
          "output_type": "stream",
          "name": "stdout",
          "text": [
            "  Date received          Product                                  Issue  \\\n",
            "0    2016-03-25  Debt collection     False statements or representation   \n",
            "1    2015-05-08  Debt collection  Cont'd attempts collect debt not owed   \n",
            "2    2016-01-21  Debt collection                  Communication tactics   \n",
            "3    2015-05-01  Debt collection  Cont'd attempts collect debt not owed   \n",
            "4    2015-09-26      Credit card                   Credit determination   \n",
            "\n",
            "                        Consumer complaint narrative  \\\n",
            "0  Debt amounts are not accurate when attempting ...   \n",
            "1  Focus Receivables Management, XXXX, GA XXXX Ph...   \n",
            "2  My mother, my sister, and I have received mult...   \n",
            "3  I started to receive correspondence from Natio...   \n",
            "4                      XXXX ruined my credit rating.   \n",
            "\n",
            "                             Company public response Date sent to company  \\\n",
            "0  Company believes it acted appropriately as aut...           2016-03-26   \n",
            "1  Company can't verify or dispute the facts in t...           2015-05-11   \n",
            "2  Company can't verify or dispute the facts in t...           2016-01-21   \n",
            "3  Company believes it acted appropriately as aut...           2015-05-01   \n",
            "4   Company chooses not to provide a public response           2015-09-29   \n",
            "\n",
            "      Company response to consumer Timely response?  Business Days  \n",
            "0          Closed with explanation               No              1  \n",
            "1          Closed with explanation               No              2  \n",
            "2          Closed with explanation              Yes              1  \n",
            "3  Closed with non-monetary relief              Yes              1  \n",
            "4      Closed with monetary relief              Yes              2  \n"
          ]
        }
      ]
    },
    {
      "cell_type": "code",
      "source": [
        "mean_business_days = df['Business Days'].mean()\n",
        "median_business_days = df['Business Days'].median()\n",
        "max_business_days = df['Business Days'].max()\n",
        "min_business_days = df['Business Days'].min()\n",
        "standard_dev = df['Business Days'].std()\n",
        "\n",
        "print(mean_business_days)\n",
        "print(median_business_days)\n",
        "print(max_business_days)\n",
        "print(min_business_days)\n",
        "print(standard_dev)"
      ],
      "metadata": {
        "colab": {
          "base_uri": "https://localhost:8080/"
        },
        "id": "5WBXznqO1gDM",
        "outputId": "3934b128-c4d3-4931-9258-371e321a4f5e"
      },
      "execution_count": 13,
      "outputs": [
        {
          "output_type": "stream",
          "name": "stdout",
          "text": [
            "2.7161387220098305\n",
            "1.0\n",
            "172\n",
            "0\n",
            "7.602446586540142\n"
          ]
        }
      ]
    },
    {
      "cell_type": "code",
      "source": [
        "average_business_days_per_product = df.groupby('Product')['Business Days'].mean()\n",
        "print(average_business_days_per_product)"
      ],
      "metadata": {
        "colab": {
          "base_uri": "https://localhost:8080/"
        },
        "id": "tv7p2Kfh6Lji",
        "outputId": "d90b7545-8ea6-4137-9a85-44fec191ce64"
      },
      "execution_count": 18,
      "outputs": [
        {
          "output_type": "stream",
          "name": "stdout",
          "text": [
            "Product\n",
            "Bank account or service                                                         1.547231\n",
            "Checking or savings account                                                     1.445298\n",
            "Consumer Loan                                                                   3.668966\n",
            "Credit card                                                                     1.473913\n",
            "Credit card or prepaid card                                                     1.509569\n",
            "Credit reporting                                                                2.392694\n",
            "Credit reporting or other personal consumer reports                             0.981481\n",
            "Credit reporting, credit repair services, or other personal consumer reports    1.902903\n",
            "Debt collection                                                                 3.359347\n",
            "Debt or credit management                                                       1.000000\n",
            "Money transfer, virtual currency, or money service                              3.235772\n",
            "Money transfers                                                                 2.590909\n",
            "Mortgage                                                                        2.970438\n",
            "Other financial service                                                         5.428571\n",
            "Payday loan                                                                     8.756098\n",
            "Payday loan, title loan, or personal loan                                       3.132867\n",
            "Payday loan, title loan, personal loan, or advance loan                         5.800000\n",
            "Prepaid card                                                                    3.214286\n",
            "Student loan                                                                    4.079096\n",
            "Vehicle loan or lease                                                           2.346667\n",
            "Name: Business Days, dtype: float64\n",
            "Issue\n",
            "APR or interest rate                                        1.153846\n",
            "Account opening, closing, or management                     1.537190\n",
            "Advertising                                                 1.000000\n",
            "Advertising and marketing                                   3.000000\n",
            "Advertising and marketing, including promotional offers     0.857143\n",
            "                                                             ...    \n",
            "Using a debit or ATM card                                   0.928571\n",
            "Vehicle was repossessed or sold the vehicle                 0.000000\n",
            "Was approved for a loan, but didn't receive the money      21.000000\n",
            "Written notification about debt                             2.383513\n",
            "Wrong amount charged or received                            6.000000\n",
            "Name: Business Days, Length: 140, dtype: float64\n"
          ]
        }
      ]
    },
    {
      "cell_type": "code",
      "source": [
        "average_business_days_per_issue = df.groupby('Issue')['Business Days'].mean()\n",
        "print(average_business_days_per_issue)"
      ],
      "metadata": {
        "colab": {
          "base_uri": "https://localhost:8080/"
        },
        "id": "gta4lyU-66Ic",
        "outputId": "3e709479-b1b2-49bd-9606-7e3e6ec1c131"
      },
      "execution_count": 19,
      "outputs": [
        {
          "output_type": "stream",
          "name": "stdout",
          "text": [
            "Issue\n",
            "APR or interest rate                                        1.153846\n",
            "Account opening, closing, or management                     1.537190\n",
            "Advertising                                                 1.000000\n",
            "Advertising and marketing                                   3.000000\n",
            "Advertising and marketing, including promotional offers     0.857143\n",
            "                                                             ...    \n",
            "Using a debit or ATM card                                   0.928571\n",
            "Vehicle was repossessed or sold the vehicle                 0.000000\n",
            "Was approved for a loan, but didn't receive the money      21.000000\n",
            "Written notification about debt                             2.383513\n",
            "Wrong amount charged or received                            6.000000\n",
            "Name: Business Days, Length: 140, dtype: float64\n"
          ]
        }
      ]
    },
    {
      "cell_type": "code",
      "source": [
        "average_business_days_per_response = df.groupby('Company public response')['Business Days'].mean()\n",
        "print(average_business_days_per_issue)"
      ],
      "metadata": {
        "colab": {
          "base_uri": "https://localhost:8080/"
        },
        "id": "s4GaAhzC79D2",
        "outputId": "7b1fffd1-79f1-4f11-beb6-12cd0494c5f3"
      },
      "execution_count": 20,
      "outputs": [
        {
          "output_type": "stream",
          "name": "stdout",
          "text": [
            "Issue\n",
            "APR or interest rate                                        1.153846\n",
            "Account opening, closing, or management                     1.537190\n",
            "Advertising                                                 1.000000\n",
            "Advertising and marketing                                   3.000000\n",
            "Advertising and marketing, including promotional offers     0.857143\n",
            "                                                             ...    \n",
            "Using a debit or ATM card                                   0.928571\n",
            "Vehicle was repossessed or sold the vehicle                 0.000000\n",
            "Was approved for a loan, but didn't receive the money      21.000000\n",
            "Written notification about debt                             2.383513\n",
            "Wrong amount charged or received                            6.000000\n",
            "Name: Business Days, Length: 140, dtype: float64\n"
          ]
        }
      ]
    },
    {
      "cell_type": "markdown",
      "source": [],
      "metadata": {
        "id": "Jrxazerr8Q9y"
      }
    },
    {
      "cell_type": "code",
      "source": [
        "average_company_response = df.groupby('Company response to consumer')['Business Days'].mean()\n",
        "print(average_company_response)"
      ],
      "metadata": {
        "colab": {
          "base_uri": "https://localhost:8080/"
        },
        "id": "d3lKPNbq8bPF",
        "outputId": "581488ab-5fbf-406d-96f8-d13eecfc5c18"
      },
      "execution_count": 21,
      "outputs": [
        {
          "output_type": "stream",
          "name": "stdout",
          "text": [
            "Company response to consumer\n",
            "Closed                             3.890411\n",
            "Closed with explanation            3.017031\n",
            "Closed with monetary relief        1.969919\n",
            "Closed with non-monetary relief    2.210422\n",
            "Name: Business Days, dtype: float64\n"
          ]
        }
      ]
    },
    {
      "cell_type": "code",
      "source": [
        "# Group by product and issue, then get unique issues for each product\n",
        "unique_issues_per_product = df.groupby('Product')['Issue'].unique()\n",
        "print(unique_issues_per_product)"
      ],
      "metadata": {
        "colab": {
          "base_uri": "https://localhost:8080/"
        },
        "id": "aV8P8VLV9STA",
        "outputId": "30a0ceef-c946-4275-eb2c-7134b2d47188"
      },
      "execution_count": 22,
      "outputs": [
        {
          "output_type": "stream",
          "name": "stdout",
          "text": [
            "Product\n",
            "Bank account or service                                                         [Account opening, closing, or management, Depo...\n",
            "Checking or savings account                                                     [Opening an account, Managing an account, Cred...\n",
            "Consumer Loan                                                                   [Taking out the loan or lease, Managing the lo...\n",
            "Credit card                                                                     [Credit determination, Billing disputes, APR o...\n",
            "Credit card or prepaid card                                                     [Fees or interest, Problem with a purchase sho...\n",
            "Credit reporting                                                                [Improper use of my credit report, Incorrect i...\n",
            "Credit reporting or other personal consumer reports                             [Incorrect information on your report, Problem...\n",
            "Credit reporting, credit repair services, or other personal consumer reports    [Incorrect information on your report, Imprope...\n",
            "Debt collection                                                                 [False statements or representation, Cont'd at...\n",
            "Debt or credit management                                                                      [Didn't provide services promised]\n",
            "Money transfer, virtual currency, or money service                              [Unauthorized transactions or other transactio...\n",
            "Money transfers                                                                 [Wrong amount charged or received, Incorrect/m...\n",
            "Mortgage                                                                        [Loan servicing, payments, escrow account, Set...\n",
            "Other financial service                                                         [Fraud or scam, Disclosures, Excessive fees, C...\n",
            "Payday loan                                                                     [Can't contact lender, Payment to acct not cre...\n",
            "Payday loan, title loan, or personal loan                                       [Charged fees or interest you didn't expect, I...\n",
            "Payday loan, title loan, personal loan, or advance loan                         [Issues with repayment, Problem with the payof...\n",
            "Prepaid card                                                                    [Fees, Unauthorized transactions/trans. issues...\n",
            "Student loan                                                                    [Getting a loan, Dealing with your lender or s...\n",
            "Vehicle loan or lease                                                           [Managing the loan or lease, Struggling to pay...\n",
            "Name: Issue, dtype: object\n"
          ]
        }
      ]
    }
  ]
}